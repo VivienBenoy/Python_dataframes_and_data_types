{
 "cells": [
  {
   "cell_type": "markdown",
   "id": "62072120-2cc8-49c3-8a5d-eaeaf92697e2",
   "metadata": {},
   "source": [
    " Data Cleaning "
   ]
  },
  {
   "cell_type": "markdown",
   "id": "ede70a68-70c2-4958-8e06-9e73b676b344",
   "metadata": {},
   "source": [
    "Part (a)"
   ]
  },
  {
   "cell_type": "code",
   "execution_count": 9,
   "id": "9bcf51a1-d38f-4450-97a3-12590f5e2404",
   "metadata": {},
   "outputs": [
    {
     "name": "stderr",
     "output_type": "stream",
     "text": [
      "C:\\Users\\vivie\\AppData\\Local\\Temp\\ipykernel_14936\\4016642839.py:3: DtypeWarning: Columns (6,7,8,9) have mixed types. Specify dtype option on import or set low_memory=False.\n",
      "  weather=pd.read_csv('weather.csv',header=9)\n"
     ]
    },
    {
     "data": {
      "text/html": [
       "<div>\n",
       "<style scoped>\n",
       "    .dataframe tbody tr th:only-of-type {\n",
       "        vertical-align: middle;\n",
       "    }\n",
       "\n",
       "    .dataframe tbody tr th {\n",
       "        vertical-align: top;\n",
       "    }\n",
       "\n",
       "    .dataframe thead th {\n",
       "        text-align: right;\n",
       "    }\n",
       "</style>\n",
       "<table border=\"1\" class=\"dataframe\">\n",
       "  <thead>\n",
       "    <tr style=\"text-align: right;\">\n",
       "      <th></th>\n",
       "      <th>wsid</th>\n",
       "      <th>date</th>\n",
       "      <th>year</th>\n",
       "      <th>month</th>\n",
       "      <th>day</th>\n",
       "      <th>hr</th>\n",
       "      <th>rn</th>\n",
       "      <th>mxt</th>\n",
       "      <th>mnt</th>\n",
       "      <th>hmdy</th>\n",
       "      <th>wdsp</th>\n",
       "    </tr>\n",
       "  </thead>\n",
       "  <tbody>\n",
       "    <tr>\n",
       "      <th>0</th>\n",
       "      <td>215</td>\n",
       "      <td>09/08/2007</td>\n",
       "      <td>2007</td>\n",
       "      <td>8</td>\n",
       "      <td>9</td>\n",
       "      <td>0</td>\n",
       "      <td>0</td>\n",
       "      <td>0.0</td>\n",
       "      <td>0.0</td>\n",
       "      <td>0</td>\n",
       "      <td>0.0</td>\n",
       "    </tr>\n",
       "    <tr>\n",
       "      <th>1</th>\n",
       "      <td>215</td>\n",
       "      <td>09/08/2007</td>\n",
       "      <td>2007</td>\n",
       "      <td>8</td>\n",
       "      <td>9</td>\n",
       "      <td>1</td>\n",
       "      <td>0</td>\n",
       "      <td>0.0</td>\n",
       "      <td>0.0</td>\n",
       "      <td>0</td>\n",
       "      <td>0.0</td>\n",
       "    </tr>\n",
       "    <tr>\n",
       "      <th>2</th>\n",
       "      <td>215</td>\n",
       "      <td>09/08/2007</td>\n",
       "      <td>2007</td>\n",
       "      <td>8</td>\n",
       "      <td>9</td>\n",
       "      <td>2</td>\n",
       "      <td>0</td>\n",
       "      <td>0.0</td>\n",
       "      <td>0.0</td>\n",
       "      <td>0</td>\n",
       "      <td>0.0</td>\n",
       "    </tr>\n",
       "    <tr>\n",
       "      <th>3</th>\n",
       "      <td>215</td>\n",
       "      <td>09/08/2007</td>\n",
       "      <td>2007</td>\n",
       "      <td>8</td>\n",
       "      <td>9</td>\n",
       "      <td>3</td>\n",
       "      <td>0</td>\n",
       "      <td>0.0</td>\n",
       "      <td>0.0</td>\n",
       "      <td>0</td>\n",
       "      <td>0.0</td>\n",
       "    </tr>\n",
       "    <tr>\n",
       "      <th>4</th>\n",
       "      <td>215</td>\n",
       "      <td>09/08/2007</td>\n",
       "      <td>2007</td>\n",
       "      <td>8</td>\n",
       "      <td>9</td>\n",
       "      <td>4</td>\n",
       "      <td>0</td>\n",
       "      <td>0.0</td>\n",
       "      <td>0.0</td>\n",
       "      <td>0</td>\n",
       "      <td>0.0</td>\n",
       "    </tr>\n",
       "  </tbody>\n",
       "</table>\n",
       "</div>"
      ],
      "text/plain": [
       "   wsid        date  year  month  day  hr rn  mxt  mnt hmdy  wdsp\n",
       "0   215  09/08/2007  2007      8    9   0  0  0.0  0.0    0   0.0\n",
       "1   215  09/08/2007  2007      8    9   1  0  0.0  0.0    0   0.0\n",
       "2   215  09/08/2007  2007      8    9   2  0  0.0  0.0    0   0.0\n",
       "3   215  09/08/2007  2007      8    9   3  0  0.0  0.0    0   0.0\n",
       "4   215  09/08/2007  2007      8    9   4  0  0.0  0.0    0   0.0"
      ]
     },
     "execution_count": 9,
     "metadata": {},
     "output_type": "execute_result"
    }
   ],
   "source": [
    "#reading in the data to the python notebvook\n",
    "import pandas as pd\n",
    "weather=pd.read_csv('weather.csv',header=9)\n",
    "#show the first few table of data\n",
    "weather.head()"
   ]
  },
  {
   "cell_type": "code",
   "execution_count": 10,
   "id": "9737366d-d780-46b7-bafe-924e4914bc92",
   "metadata": {},
   "outputs": [
    {
     "name": "stdout",
     "output_type": "stream",
     "text": [
      "<class 'pandas.core.frame.DataFrame'>\n",
      "RangeIndex: 245195 entries, 0 to 245194\n",
      "Data columns (total 11 columns):\n",
      " #   Column  Non-Null Count   Dtype  \n",
      "---  ------  --------------   -----  \n",
      " 0   wsid    245195 non-null  int64  \n",
      " 1   date    245195 non-null  object \n",
      " 2   year    245195 non-null  int64  \n",
      " 3   month   245195 non-null  int64  \n",
      " 4   day     245195 non-null  int64  \n",
      " 5   hr      245195 non-null  int64  \n",
      " 6   rn      34919 non-null   object \n",
      " 7   mxt     245193 non-null  object \n",
      " 8   mnt     245194 non-null  object \n",
      " 9   hmdy    245192 non-null  object \n",
      " 10  wdsp    232463 non-null  float64\n",
      "dtypes: float64(1), int64(5), object(5)\n",
      "memory usage: 20.6+ MB\n"
     ]
    }
   ],
   "source": [
    "# shows the data types\n",
    "weather.info()"
   ]
  },
  {
   "cell_type": "code",
   "execution_count": 11,
   "id": "9f7afc4b-08dc-4739-a7ad-12995b670afe",
   "metadata": {},
   "outputs": [
    {
     "name": "stdout",
     "output_type": "stream",
     "text": [
      "wsid          0\n",
      "date          0\n",
      "year          0\n",
      "month         0\n",
      "day           0\n",
      "hr            0\n",
      "rn       210276\n",
      "mxt           2\n",
      "mnt           1\n",
      "hmdy          3\n",
      "wdsp      12732\n",
      "dtype: int64\n"
     ]
    }
   ],
   "source": [
    "#shows the missing values\n",
    "print(weather.isnull().sum())"
   ]
  },
  {
   "cell_type": "code",
   "execution_count": 12,
   "id": "bf5900b6-5b57-4131-95c6-45461c6d0eea",
   "metadata": {},
   "outputs": [
    {
     "name": "stdout",
     "output_type": "stream",
     "text": [
      "wsid     0\n",
      "date     0\n",
      "year     0\n",
      "month    0\n",
      "day      0\n",
      "hr       0\n",
      "rn       8\n",
      "mxt      0\n",
      "mnt      0\n",
      "hmdy     0\n",
      "wdsp     1\n",
      "dtype: int64\n"
     ]
    }
   ],
   "source": [
    "print(weather[9:20].isnull().sum())"
   ]
  },
  {
   "cell_type": "raw",
   "id": "3d516288-76b8-4c9c-b2a2-f5a30a03fe7c",
   "metadata": {},
   "source": [
    "The Dataset is unorganised. The actual data only starts from row 10 of the csv file. A lot of the column names are vague and there are a lot of missing values in the dataset. the data types are different for a lot of columns and should be corrected."
   ]
  },
  {
   "cell_type": "markdown",
   "id": "334e8339-01c9-4d11-9036-755758b7134a",
   "metadata": {},
   "source": [
    "Part (b) and Part (c)"
   ]
  },
  {
   "cell_type": "code",
   "execution_count": 14,
   "id": "33f9fd11-4fd5-4f78-a5f3-90694c60d0c8",
   "metadata": {},
   "outputs": [
    {
     "data": {
      "text/html": [
       "<div>\n",
       "<style scoped>\n",
       "    .dataframe tbody tr th:only-of-type {\n",
       "        vertical-align: middle;\n",
       "    }\n",
       "\n",
       "    .dataframe tbody tr th {\n",
       "        vertical-align: top;\n",
       "    }\n",
       "\n",
       "    .dataframe thead th {\n",
       "        text-align: right;\n",
       "    }\n",
       "</style>\n",
       "<table border=\"1\" class=\"dataframe\">\n",
       "  <thead>\n",
       "    <tr style=\"text-align: right;\">\n",
       "      <th></th>\n",
       "      <th>wsid</th>\n",
       "      <th>date</th>\n",
       "      <th>year</th>\n",
       "      <th>month</th>\n",
       "      <th>day</th>\n",
       "      <th>hr</th>\n",
       "      <th>rn</th>\n",
       "      <th>mxt</th>\n",
       "      <th>mnt</th>\n",
       "      <th>hmdy</th>\n",
       "    </tr>\n",
       "  </thead>\n",
       "  <tbody>\n",
       "    <tr>\n",
       "      <th>9</th>\n",
       "      <td>215</td>\n",
       "      <td>09/08/2007</td>\n",
       "      <td>2007</td>\n",
       "      <td>8</td>\n",
       "      <td>9</td>\n",
       "      <td>9</td>\n",
       "      <td>0</td>\n",
       "      <td>0.0</td>\n",
       "      <td>0.0</td>\n",
       "      <td>0</td>\n",
       "    </tr>\n",
       "    <tr>\n",
       "      <th>10</th>\n",
       "      <td>215</td>\n",
       "      <td>09/08/2007</td>\n",
       "      <td>2007</td>\n",
       "      <td>8</td>\n",
       "      <td>9</td>\n",
       "      <td>10</td>\n",
       "      <td>NaN</td>\n",
       "      <td>0.0</td>\n",
       "      <td>0.0</td>\n",
       "      <td>99</td>\n",
       "    </tr>\n",
       "    <tr>\n",
       "      <th>11</th>\n",
       "      <td>215</td>\n",
       "      <td>09/08/2007</td>\n",
       "      <td>2007</td>\n",
       "      <td>8</td>\n",
       "      <td>9</td>\n",
       "      <td>11</td>\n",
       "      <td>0.2</td>\n",
       "      <td>15.2</td>\n",
       "      <td>12.8</td>\n",
       "      <td>93</td>\n",
       "    </tr>\n",
       "    <tr>\n",
       "      <th>12</th>\n",
       "      <td>215</td>\n",
       "      <td>09/08/2007</td>\n",
       "      <td>2007</td>\n",
       "      <td>8</td>\n",
       "      <td>9</td>\n",
       "      <td>12</td>\n",
       "      <td>NaN</td>\n",
       "      <td>17.1</td>\n",
       "      <td>14.8</td>\n",
       "      <td>83</td>\n",
       "    </tr>\n",
       "    <tr>\n",
       "      <th>13</th>\n",
       "      <td>215</td>\n",
       "      <td>09/08/2007</td>\n",
       "      <td>2007</td>\n",
       "      <td>8</td>\n",
       "      <td>9</td>\n",
       "      <td>13</td>\n",
       "      <td>0</td>\n",
       "      <td>0.0</td>\n",
       "      <td>0.0</td>\n",
       "      <td>0</td>\n",
       "    </tr>\n",
       "  </tbody>\n",
       "</table>\n",
       "</div>"
      ],
      "text/plain": [
       "    wsid        date  year  month  day  hr   rn   mxt   mnt hmdy\n",
       "9    215  09/08/2007  2007      8    9   9    0   0.0   0.0    0\n",
       "10   215  09/08/2007  2007      8    9  10  NaN   0.0   0.0   99\n",
       "11   215  09/08/2007  2007      8    9  11  0.2  15.2  12.8   93\n",
       "12   215  09/08/2007  2007      8    9  12  NaN  17.1  14.8   83\n",
       "13   215  09/08/2007  2007      8    9  13    0   0.0   0.0    0"
      ]
     },
     "execution_count": 14,
     "metadata": {},
     "output_type": "execute_result"
    }
   ],
   "source": [
    "#removes the unneccessary columns and rows and stores it in a different dataframe\n",
    "df=weather.iloc[9:,0:10]\n",
    "df.head()"
   ]
  },
  {
   "cell_type": "code",
   "execution_count": 15,
   "id": "f966fb98-4901-492c-8729-6f93ddfab60c",
   "metadata": {},
   "outputs": [
    {
     "name": "stdout",
     "output_type": "stream",
     "text": [
      "rn      210276\n",
      "mxt          2\n",
      "mnt          1\n",
      "hmdy         3\n",
      "dtype: int64\n"
     ]
    }
   ],
   "source": [
    "# Find the columns withe missing data\n",
    "missing_data = df.isna().sum()\n",
    "print(missing_data[missing_data > 0])"
   ]
  },
  {
   "cell_type": "code",
   "execution_count": 16,
   "id": "ca360eab-376e-440a-8ca4-b17878f85138",
   "metadata": {},
   "outputs": [],
   "source": [
    "#conver the data types from object to numeric\n",
    "df['rn'] = pd.to_numeric(df['rn'], errors='coerce')\n",
    "df['mnt'] = pd.to_numeric(df['mnt'], errors='coerce')\n",
    "df['mxt'] = pd.to_numeric(df['mxt'], errors='coerce')\n",
    "df['hmdy'] = pd.to_numeric(df['hmdy'], errors='coerce')"
   ]
  },
  {
   "cell_type": "code",
   "execution_count": 17,
   "id": "c245a079-6cb5-4e24-8a45-a411a893f538",
   "metadata": {},
   "outputs": [],
   "source": [
    "# Replace all the missing values with the mean of the value\n",
    "df['rn'] = df['rn'].fillna(df['rn'].mean())\n",
    "df['mxt'] = df['mxt'].fillna(df['mxt'].mean())\n",
    "df['mnt'] = df['mnt'].fillna(df['mnt'].mean())\n",
    "df['hmdy'] = df['hmdy'].fillna(df['hmdy'].mean())"
   ]
  },
  {
   "cell_type": "markdown",
   "id": "f3447f72-d516-4abc-8177-4e6df10a13d1",
   "metadata": {},
   "source": [
    "Part (d)"
   ]
  },
  {
   "cell_type": "code",
   "execution_count": 19,
   "id": "bc4a6150-dfb7-4758-a2ac-0656062895d6",
   "metadata": {},
   "outputs": [],
   "source": [
    "# Save the updated data into another csv file.\n",
    "df.to_csv(\"weather_edit.csv\",index=False)"
   ]
  },
  {
   "cell_type": "markdown",
   "id": "58dca085-8d91-4bf0-8e44-69c4add26731",
   "metadata": {},
   "source": [
    "Indexing, Slicing, Filtering "
   ]
  },
  {
   "cell_type": "code",
   "execution_count": 21,
   "id": "077b4fec-6646-4df2-b2c1-f967d9642867",
   "metadata": {},
   "outputs": [
    {
     "data": {
      "text/html": [
       "<div>\n",
       "<style scoped>\n",
       "    .dataframe tbody tr th:only-of-type {\n",
       "        vertical-align: middle;\n",
       "    }\n",
       "\n",
       "    .dataframe tbody tr th {\n",
       "        vertical-align: top;\n",
       "    }\n",
       "\n",
       "    .dataframe thead th {\n",
       "        text-align: right;\n",
       "    }\n",
       "</style>\n",
       "<table border=\"1\" class=\"dataframe\">\n",
       "  <thead>\n",
       "    <tr style=\"text-align: right;\">\n",
       "      <th></th>\n",
       "      <th>wsid</th>\n",
       "      <th>date</th>\n",
       "      <th>year</th>\n",
       "      <th>month</th>\n",
       "      <th>day</th>\n",
       "      <th>hr</th>\n",
       "      <th>rn</th>\n",
       "      <th>mxt</th>\n",
       "      <th>mnt</th>\n",
       "      <th>hmdy</th>\n",
       "    </tr>\n",
       "  </thead>\n",
       "  <tbody>\n",
       "    <tr>\n",
       "      <th>0</th>\n",
       "      <td>215</td>\n",
       "      <td>09/08/2007</td>\n",
       "      <td>2007</td>\n",
       "      <td>8</td>\n",
       "      <td>9</td>\n",
       "      <td>9</td>\n",
       "      <td>0.000000</td>\n",
       "      <td>0.0</td>\n",
       "      <td>0.0</td>\n",
       "      <td>0.0</td>\n",
       "    </tr>\n",
       "    <tr>\n",
       "      <th>1</th>\n",
       "      <td>215</td>\n",
       "      <td>09/08/2007</td>\n",
       "      <td>2007</td>\n",
       "      <td>8</td>\n",
       "      <td>9</td>\n",
       "      <td>10</td>\n",
       "      <td>1.020794</td>\n",
       "      <td>0.0</td>\n",
       "      <td>0.0</td>\n",
       "      <td>99.0</td>\n",
       "    </tr>\n",
       "    <tr>\n",
       "      <th>2</th>\n",
       "      <td>215</td>\n",
       "      <td>09/08/2007</td>\n",
       "      <td>2007</td>\n",
       "      <td>8</td>\n",
       "      <td>9</td>\n",
       "      <td>11</td>\n",
       "      <td>0.200000</td>\n",
       "      <td>15.2</td>\n",
       "      <td>12.8</td>\n",
       "      <td>93.0</td>\n",
       "    </tr>\n",
       "    <tr>\n",
       "      <th>3</th>\n",
       "      <td>215</td>\n",
       "      <td>09/08/2007</td>\n",
       "      <td>2007</td>\n",
       "      <td>8</td>\n",
       "      <td>9</td>\n",
       "      <td>12</td>\n",
       "      <td>1.020794</td>\n",
       "      <td>17.1</td>\n",
       "      <td>14.8</td>\n",
       "      <td>83.0</td>\n",
       "    </tr>\n",
       "    <tr>\n",
       "      <th>4</th>\n",
       "      <td>215</td>\n",
       "      <td>09/08/2007</td>\n",
       "      <td>2007</td>\n",
       "      <td>8</td>\n",
       "      <td>9</td>\n",
       "      <td>13</td>\n",
       "      <td>0.000000</td>\n",
       "      <td>0.0</td>\n",
       "      <td>0.0</td>\n",
       "      <td>0.0</td>\n",
       "    </tr>\n",
       "  </tbody>\n",
       "</table>\n",
       "</div>"
      ],
      "text/plain": [
       "   wsid        date  year  month  day  hr        rn   mxt   mnt  hmdy\n",
       "0   215  09/08/2007  2007      8    9   9  0.000000   0.0   0.0   0.0\n",
       "1   215  09/08/2007  2007      8    9  10  1.020794   0.0   0.0  99.0\n",
       "2   215  09/08/2007  2007      8    9  11  0.200000  15.2  12.8  93.0\n",
       "3   215  09/08/2007  2007      8    9  12  1.020794  17.1  14.8  83.0\n",
       "4   215  09/08/2007  2007      8    9  13  0.000000   0.0   0.0   0.0"
      ]
     },
     "execution_count": 21,
     "metadata": {},
     "output_type": "execute_result"
    }
   ],
   "source": [
    "# Read in the data from the new and updated csv file\n",
    "df=pd.read_csv('weather_edit.csv')\n",
    "df.head()"
   ]
  },
  {
   "cell_type": "code",
   "execution_count": 22,
   "id": "5ae58835-71da-4229-9916-c782c92f0638",
   "metadata": {},
   "outputs": [
    {
     "name": "stdout",
     "output_type": "stream",
     "text": [
      "<class 'pandas.core.frame.DataFrame'>\n",
      "RangeIndex: 245186 entries, 0 to 245185\n",
      "Data columns (total 10 columns):\n",
      " #   Column  Non-Null Count   Dtype  \n",
      "---  ------  --------------   -----  \n",
      " 0   wsid    245186 non-null  int64  \n",
      " 1   date    245186 non-null  object \n",
      " 2   year    245186 non-null  int64  \n",
      " 3   month   245186 non-null  int64  \n",
      " 4   day     245186 non-null  int64  \n",
      " 5   hr      245186 non-null  int64  \n",
      " 6   rn      245186 non-null  float64\n",
      " 7   mxt     245186 non-null  float64\n",
      " 8   mnt     245186 non-null  float64\n",
      " 9   hmdy    245186 non-null  float64\n",
      "dtypes: float64(4), int64(5), object(1)\n",
      "memory usage: 18.7+ MB\n"
     ]
    }
   ],
   "source": [
    "#check the data types to see if it has been changed\n",
    "df.info()"
   ]
  },
  {
   "cell_type": "markdown",
   "id": "f81018fa-9896-4a35-8bff-f9dc5dc414c6",
   "metadata": {},
   "source": [
    "Part (a)"
   ]
  },
  {
   "cell_type": "code",
   "execution_count": 24,
   "id": "18a4ed22-a6e1-45ee-bc34-a5a6a4a82381",
   "metadata": {},
   "outputs": [
    {
     "name": "stdout",
     "output_type": "stream",
     "text": [
      "The Hourly minimum temperature at station 215 on 10/03/2010 at 10:00 is 21.3\n"
     ]
    }
   ],
   "source": [
    "# To find the hourly minimum temperature at the station 215 on the specific date and hour.\n",
    "hourly_minimum_temp=df[(df['wsid'] == 215) & (df['date'] == '10/03/2010') &(df['hr'] == 10)]['mnt'].iloc[0]\n",
    "print('The Hourly minimum temperature at station 215 on 10/03/2010 at 10:00 is', hourly_minimum_temp)"
   ]
  },
  {
   "cell_type": "markdown",
   "id": "8bfbba41-7ed6-4e7a-88ab-9e6191728c3b",
   "metadata": {},
   "source": [
    "Part(b)"
   ]
  },
  {
   "cell_type": "code",
   "execution_count": 69,
   "id": "74c71045-8328-40f5-b0c4-642f531623e9",
   "metadata": {},
   "outputs": [
    {
     "name": "stdout",
     "output_type": "stream",
     "text": [
      "The highest mean hourly humidity at station 215 was recorded on 09/01/2013 at 15 :00\n"
     ]
    }
   ],
   "source": [
    "# Find the rows in which the station number in 215\n",
    "station_215_data = df[df['wsid'] == 215]\n",
    "# arrange the data in descending order to find the highest value from the first row easily\n",
    "sorted_station_215 = station_215_data.sort_values(by='hmdy', ascending=False)\n",
    "max_humidity_row = sorted_station_215.iloc[0]\n",
    "print(\"The highest mean hourly humidity at station 215 was recorded on\", max_humidity_row['date'],\"at\", max_humidity_row['hr'],\":00\")"
   ]
  },
  {
   "cell_type": "markdown",
   "id": "cc776b7f-af08-4757-81b7-0c3681c0e402",
   "metadata": {},
   "source": [
    "Part (c)"
   ]
  },
  {
   "cell_type": "code",
   "execution_count": 73,
   "id": "79d14a6c-c931-4588-8bf1-0d105f13afe3",
   "metadata": {},
   "outputs": [
    {
     "name": "stdout",
     "output_type": "stream",
     "text": [
      "The number of mean hourly humidity values at station 621 that exceed 95 is 4957\n"
     ]
    }
   ],
   "source": [
    "# Filter rows where the station number is 621\n",
    "station_621_data = df[df['wsid'] == 621]\n",
    "#Find the rows where the humidity is more than 95\n",
    "high_humidity_rows = station_621_data[station_621_data['hmdy'] > 95]\n",
    "print(\"The number of mean hourly humidity values at station 621 that exceed 95 is\",high_humidity_rows.shape[0])"
   ]
  },
  {
   "cell_type": "markdown",
   "id": "279a0ba7-3a2e-46b9-aa49-f3103245e2fb",
   "metadata": {},
   "source": [
    "Part (d)"
   ]
  },
  {
   "cell_type": "code",
   "execution_count": 30,
   "id": "d0e6bca8-d08b-4f4e-b55a-fc12d863524b",
   "metadata": {},
   "outputs": [
    {
     "name": "stdout",
     "output_type": "stream",
     "text": [
      "The daily total rainfall at station number 542 on 13/04/2012 is 24.499057549629036\n"
     ]
    }
   ],
   "source": [
    "# Find the station with number 542 on the specifc date and collect all the rainfall and find the sum of it.\n",
    "total_rainfall_542 = df[(df['wsid'] == 542) & (df['date'] == '13/04/2012')]['rn'].sum()\n",
    "print('The daily total rainfall at station number 542 on 13/04/2012 is', total_rainfall_542)"
   ]
  },
  {
   "cell_type": "markdown",
   "id": "0920c50f-3bfe-45f8-827c-48a00c346124",
   "metadata": {},
   "source": [
    "Part(e)"
   ]
  },
  {
   "cell_type": "code",
   "execution_count": 32,
   "id": "2e7b3d87-6496-4194-bf4d-746ecb32a50c",
   "metadata": {},
   "outputs": [
    {
     "name": "stdout",
     "output_type": "stream",
     "text": [
      "The mean of the non-missing hourly minimum temperatures at station number 621 in December 2013 24.929798657718116\n"
     ]
    }
   ],
   "source": [
    "# Find the station with the specific number and date and extract the minimum temperature and then use the mean function\n",
    "december_temp = df[(df['wsid'] == 621) & (df['month']==12) &(df['year']==2013) ]['mnt'].mean()\n",
    "print('The mean of the non-missing hourly minimum temperatures at station number 621 in December 2013',december_temp)"
   ]
  },
  {
   "cell_type": "markdown",
   "id": "c00fdbe8-bba8-4582-b823-7b4f7244b3f5",
   "metadata": {},
   "source": [
    "Part(f)"
   ]
  },
  {
   "cell_type": "code",
   "execution_count": 34,
   "id": "4ed1dbb7-25b4-48ff-8a9e-94594782290d",
   "metadata": {},
   "outputs": [
    {
     "name": "stdout",
     "output_type": "stream",
     "text": [
      "        wsid        date  year  month  day  hr        rn    mxt   mnt  hmdy\n",
      "81421    542  27/12/2007  2007     12   27  14  1.020794  -99.9 -99.9  45.0\n",
      "50596    215  17/05/2013  2013      5   17  11  0.000000    0.0   0.0   0.0\n",
      "50595    215  17/05/2013  2013      5   17  10  0.000000    0.0   0.0   0.0\n",
      "50594    215  17/05/2013  2013      5   17   9  0.000000    0.0   0.0   0.0\n",
      "50605    215  17/05/2013  2013      5   17  20  0.000000    0.0   0.0   0.0\n",
      "...      ...         ...   ...    ...  ...  ..       ...    ...   ...   ...\n",
      "150330   542  06/11/2015  2015     11    6  19  1.020794   39.1  38.0  15.0\n",
      "150329   542  06/11/2015  2015     11    6  18  1.020794   39.3  37.9  14.0\n",
      "80357    542  13/11/2007  2007     11   13   7  1.020794  123.1  21.1  65.0\n",
      "172018   621  27/05/2008  2008      5   27  11  1.020794  522.4  19.1  91.0\n",
      "20679    215  18/12/2009  2009     12   18   0  1.020794  722.3  20.8  77.0\n",
      "\n",
      "[245186 rows x 10 columns]\n"
     ]
    }
   ],
   "source": [
    "#Sort the dataframe in descending order on minimum temperature first\n",
    "descending_Order=df.sort_values(by='mnt', ascending=False)\n",
    "# Sort the result in ascending order of maximum temperature\n",
    "ascending_order=descending_Order.sort_values(by='mxt', ascending=True)\n",
    "print(ascending_order)"
   ]
  },
  {
   "cell_type": "markdown",
   "id": "c019d525-f758-406f-a3b0-7d3103ae3746",
   "metadata": {},
   "source": [
    "Part(g)"
   ]
  },
  {
   "cell_type": "code",
   "execution_count": 36,
   "id": "2731740e-7fdf-4b79-9616-0f51a8e81b9c",
   "metadata": {},
   "outputs": [
    {
     "name": "stdout",
     "output_type": "stream",
     "text": [
      "44        1.000000\n",
      "45        0.600000\n",
      "46        1.000000\n",
      "47        1.000000\n",
      "48        1.200000\n",
      "            ...   \n",
      "243710    1.020794\n",
      "243711    0.200000\n",
      "243803    0.200000\n",
      "243804    1.020794\n",
      "243924    1.020794\n",
      "Name: rn, Length: 12306, dtype: float64\n"
     ]
    }
   ],
   "source": [
    "# All values of rainfall when humidity is 100\n",
    "rainfall_humidity_100=df[df['hmdy']==100]['rn']\n",
    "print(rainfall_humidity_100)"
   ]
  },
  {
   "cell_type": "markdown",
   "id": "e3315cb0-1256-4b61-8a85-5935e5a11e71",
   "metadata": {},
   "source": [
    "Part (h)"
   ]
  },
  {
   "cell_type": "code",
   "execution_count": 38,
   "id": "86b118f2-0545-404d-b435-9a0bc192dc89",
   "metadata": {},
   "outputs": [
    {
     "name": "stdout",
     "output_type": "stream",
     "text": [
      "        wsid        date  year  month  day  hr         rn   mxt   mnt  hmdy\n",
      "127074   542  12/03/2013  2013      3   12  19   1.020794  38.2  37.2  21.0\n",
      "128454   542  09/05/2013  2013      5    9   7  68.600000  23.3  21.7  95.0\n",
      "148842   542  05/09/2015  2015      9    5  19   1.020794  38.4  37.4  14.0\n",
      "149945   542  21/10/2015  2015     10   21  18   1.020794  38.4  37.1  18.0\n",
      "149946   542  21/10/2015  2015     10   21  19   1.020794  38.4  37.3  19.0\n",
      "150138   542  29/10/2015  2015     10   29  19   1.020794  37.7  37.0  18.0\n",
      "150328   542  06/11/2015  2015     11    6  17   1.020794  38.6  37.0  15.0\n",
      "150329   542  06/11/2015  2015     11    6  18   1.020794  39.3  37.9  14.0\n",
      "150330   542  06/11/2015  2015     11    6  19   1.020794  39.1  38.0  15.0\n",
      "150353   542  07/11/2015  2015     11    7  18   1.020794  38.7  37.2  16.0\n",
      "150354   542  07/11/2015  2015     11    7  19   1.020794  38.3  37.5  17.0\n",
      "150666   542  20/11/2015  2015     11   20  19   1.020794  37.6  37.0  15.0\n",
      "150689   542  21/11/2015  2015     11   21  18   1.020794  38.9  37.3  13.0\n",
      "150690   542  21/11/2015  2015     11   21  19   1.020794  39.0  37.5  14.0\n",
      "150810   542  26/11/2015  2015     11   26  19   1.020794  38.1  37.1  19.0\n",
      "150882   542  29/11/2015  2015     11   29  19   1.020794  38.6  37.4  14.0\n",
      "151097   542  08/12/2015  2015     12    8  18   1.020794  38.4  37.2  15.0\n",
      "151098   542  08/12/2015  2015     12    8  19   1.020794  38.2  37.1  15.0\n",
      "151122   542  09/12/2015  2015     12    9  19   1.020794  38.4  37.4  14.0\n",
      "151123   542  09/12/2015  2015     12    9  20   1.020794  38.3  37.1  17.0\n",
      "168671   621  09/01/2008  2008      1    9   0  70.200000  25.4  22.2  95.0\n"
     ]
    }
   ],
   "source": [
    "#print all rows where rainfall is more than 60mm or minimum temp was greater than or equal to 37\n",
    "print(df[(df['rn'] > 60) | (df['mnt'] >= 37)])"
   ]
  },
  {
   "cell_type": "markdown",
   "id": "60cf4f21-868a-4513-8de0-a37c8d8f146a",
   "metadata": {},
   "source": [
    "Part (i)"
   ]
  },
  {
   "cell_type": "code",
   "execution_count": 40,
   "id": "d1d7b4fb-e453-4f54-8024-42c770f5f3b6",
   "metadata": {},
   "outputs": [
    {
     "name": "stdout",
     "output_type": "stream",
     "text": [
      "The rows with no missing columns are as follows:\n"
     ]
    },
    {
     "name": "stderr",
     "output_type": "stream",
     "text": [
      "C:\\Users\\vivie\\AppData\\Local\\Temp\\ipykernel_14936\\925950956.py:2: DtypeWarning: Columns (6,7,8,9) have mixed types. Specify dtype option on import or set low_memory=False.\n",
      "  weather=pd.read_csv('weather.csv',header=9)\n"
     ]
    },
    {
     "data": {
      "text/html": [
       "<div>\n",
       "<style scoped>\n",
       "    .dataframe tbody tr th:only-of-type {\n",
       "        vertical-align: middle;\n",
       "    }\n",
       "\n",
       "    .dataframe tbody tr th {\n",
       "        vertical-align: top;\n",
       "    }\n",
       "\n",
       "    .dataframe thead th {\n",
       "        text-align: right;\n",
       "    }\n",
       "</style>\n",
       "<table border=\"1\" class=\"dataframe\">\n",
       "  <thead>\n",
       "    <tr style=\"text-align: right;\">\n",
       "      <th></th>\n",
       "      <th>wsid</th>\n",
       "      <th>date</th>\n",
       "      <th>year</th>\n",
       "      <th>month</th>\n",
       "      <th>day</th>\n",
       "      <th>hr</th>\n",
       "      <th>rn</th>\n",
       "      <th>mxt</th>\n",
       "      <th>mnt</th>\n",
       "      <th>hmdy</th>\n",
       "      <th>wdsp</th>\n",
       "    </tr>\n",
       "  </thead>\n",
       "  <tbody>\n",
       "    <tr>\n",
       "      <th>0</th>\n",
       "      <td>215</td>\n",
       "      <td>09/08/2007</td>\n",
       "      <td>2007</td>\n",
       "      <td>8</td>\n",
       "      <td>9</td>\n",
       "      <td>0</td>\n",
       "      <td>0</td>\n",
       "      <td>0.0</td>\n",
       "      <td>0.0</td>\n",
       "      <td>0</td>\n",
       "      <td>0.0</td>\n",
       "    </tr>\n",
       "    <tr>\n",
       "      <th>1</th>\n",
       "      <td>215</td>\n",
       "      <td>09/08/2007</td>\n",
       "      <td>2007</td>\n",
       "      <td>8</td>\n",
       "      <td>9</td>\n",
       "      <td>1</td>\n",
       "      <td>0</td>\n",
       "      <td>0.0</td>\n",
       "      <td>0.0</td>\n",
       "      <td>0</td>\n",
       "      <td>0.0</td>\n",
       "    </tr>\n",
       "    <tr>\n",
       "      <th>2</th>\n",
       "      <td>215</td>\n",
       "      <td>09/08/2007</td>\n",
       "      <td>2007</td>\n",
       "      <td>8</td>\n",
       "      <td>9</td>\n",
       "      <td>2</td>\n",
       "      <td>0</td>\n",
       "      <td>0.0</td>\n",
       "      <td>0.0</td>\n",
       "      <td>0</td>\n",
       "      <td>0.0</td>\n",
       "    </tr>\n",
       "    <tr>\n",
       "      <th>3</th>\n",
       "      <td>215</td>\n",
       "      <td>09/08/2007</td>\n",
       "      <td>2007</td>\n",
       "      <td>8</td>\n",
       "      <td>9</td>\n",
       "      <td>3</td>\n",
       "      <td>0</td>\n",
       "      <td>0.0</td>\n",
       "      <td>0.0</td>\n",
       "      <td>0</td>\n",
       "      <td>0.0</td>\n",
       "    </tr>\n",
       "    <tr>\n",
       "      <th>4</th>\n",
       "      <td>215</td>\n",
       "      <td>09/08/2007</td>\n",
       "      <td>2007</td>\n",
       "      <td>8</td>\n",
       "      <td>9</td>\n",
       "      <td>4</td>\n",
       "      <td>0</td>\n",
       "      <td>0.0</td>\n",
       "      <td>0.0</td>\n",
       "      <td>0</td>\n",
       "      <td>0.0</td>\n",
       "    </tr>\n",
       "    <tr>\n",
       "      <th>...</th>\n",
       "      <td>...</td>\n",
       "      <td>...</td>\n",
       "      <td>...</td>\n",
       "      <td>...</td>\n",
       "      <td>...</td>\n",
       "      <td>...</td>\n",
       "      <td>...</td>\n",
       "      <td>...</td>\n",
       "      <td>...</td>\n",
       "      <td>...</td>\n",
       "      <td>...</td>\n",
       "    </tr>\n",
       "    <tr>\n",
       "      <th>245004</th>\n",
       "      <td>621</td>\n",
       "      <td>23/09/2016</td>\n",
       "      <td>2016</td>\n",
       "      <td>9</td>\n",
       "      <td>23</td>\n",
       "      <td>1</td>\n",
       "      <td>0.2</td>\n",
       "      <td>21.8</td>\n",
       "      <td>21.0</td>\n",
       "      <td>88</td>\n",
       "      <td>0.8</td>\n",
       "    </tr>\n",
       "    <tr>\n",
       "      <th>245076</th>\n",
       "      <td>621</td>\n",
       "      <td>26/09/2016</td>\n",
       "      <td>2016</td>\n",
       "      <td>9</td>\n",
       "      <td>26</td>\n",
       "      <td>1</td>\n",
       "      <td>0.2</td>\n",
       "      <td>22.6</td>\n",
       "      <td>22.4</td>\n",
       "      <td>91</td>\n",
       "      <td>0.6</td>\n",
       "    </tr>\n",
       "    <tr>\n",
       "      <th>245077</th>\n",
       "      <td>621</td>\n",
       "      <td>26/09/2016</td>\n",
       "      <td>2016</td>\n",
       "      <td>9</td>\n",
       "      <td>26</td>\n",
       "      <td>2</td>\n",
       "      <td>3.6</td>\n",
       "      <td>22.4</td>\n",
       "      <td>21.5</td>\n",
       "      <td>95</td>\n",
       "      <td>2.6</td>\n",
       "    </tr>\n",
       "    <tr>\n",
       "      <th>245078</th>\n",
       "      <td>621</td>\n",
       "      <td>26/09/2016</td>\n",
       "      <td>2016</td>\n",
       "      <td>9</td>\n",
       "      <td>26</td>\n",
       "      <td>3</td>\n",
       "      <td>0.6</td>\n",
       "      <td>21.5</td>\n",
       "      <td>20.5</td>\n",
       "      <td>95</td>\n",
       "      <td>1.4</td>\n",
       "    </tr>\n",
       "    <tr>\n",
       "      <th>245086</th>\n",
       "      <td>621</td>\n",
       "      <td>26/09/2016</td>\n",
       "      <td>2016</td>\n",
       "      <td>9</td>\n",
       "      <td>26</td>\n",
       "      <td>11</td>\n",
       "      <td>0.2</td>\n",
       "      <td>19.4</td>\n",
       "      <td>19.1</td>\n",
       "      <td>80</td>\n",
       "      <td>1.2</td>\n",
       "    </tr>\n",
       "  </tbody>\n",
       "</table>\n",
       "<p>34165 rows × 11 columns</p>\n",
       "</div>"
      ],
      "text/plain": [
       "        wsid        date  year  month  day  hr   rn   mxt   mnt hmdy  wdsp\n",
       "0        215  09/08/2007  2007      8    9   0    0   0.0   0.0    0   0.0\n",
       "1        215  09/08/2007  2007      8    9   1    0   0.0   0.0    0   0.0\n",
       "2        215  09/08/2007  2007      8    9   2    0   0.0   0.0    0   0.0\n",
       "3        215  09/08/2007  2007      8    9   3    0   0.0   0.0    0   0.0\n",
       "4        215  09/08/2007  2007      8    9   4    0   0.0   0.0    0   0.0\n",
       "...      ...         ...   ...    ...  ...  ..  ...   ...   ...  ...   ...\n",
       "245004   621  23/09/2016  2016      9   23   1  0.2  21.8  21.0   88   0.8\n",
       "245076   621  26/09/2016  2016      9   26   1  0.2  22.6  22.4   91   0.6\n",
       "245077   621  26/09/2016  2016      9   26   2  3.6  22.4  21.5   95   2.6\n",
       "245078   621  26/09/2016  2016      9   26   3  0.6  21.5  20.5   95   1.4\n",
       "245086   621  26/09/2016  2016      9   26  11  0.2  19.4  19.1   80   1.2\n",
       "\n",
       "[34165 rows x 11 columns]"
      ]
     },
     "execution_count": 40,
     "metadata": {},
     "output_type": "execute_result"
    }
   ],
   "source": [
    "#Load in the original dataset to remove rows with missing values and output the remaining\n",
    "weather=pd.read_csv('weather.csv',header=9)\n",
    "weather=weather.dropna()\n",
    "print(\"The rows with no missing columns are as follows:\")\n",
    "weather"
   ]
  },
  {
   "cell_type": "markdown",
   "id": "1f05186e-0a93-419b-b379-8d806df6f843",
   "metadata": {},
   "source": [
    "Part (j)"
   ]
  },
  {
   "cell_type": "code",
   "execution_count": 42,
   "id": "fdb4446e-de25-47d5-aa6e-e724659fec7e",
   "metadata": {},
   "outputs": [
    {
     "name": "stdout",
     "output_type": "stream",
     "text": [
      "The station with the highest number of mean hourly humidity values equal to 100 is wsid\n",
      "215    12227\n",
      "dtype: int64\n"
     ]
    }
   ],
   "source": [
    "# Find the stations where the humidity is 100 and then group the stations according to their rows\n",
    "humidity = df[df['hmdy'] == 100]\n",
    "humidity_station = humidity.groupby('wsid').size()\n",
    "# Find the maximum number of rows a station has and then find the specific station\n",
    "max_humidity_rows = humidity_station.max()\n",
    "station_with_highest_humidity = humidity_station[humidity_station ==max_humidity_rows]\n",
    "print(\"The station with the highest number of mean hourly humidity values equal to 100 is\", station_with_highest_humidity)"
   ]
  },
  {
   "cell_type": "code",
   "execution_count": null,
   "id": "e768865f-9533-450e-9027-bbb7f95a3864",
   "metadata": {},
   "outputs": [],
   "source": []
  }
 ],
 "metadata": {
  "kernelspec": {
   "display_name": "Python 3 (ipykernel)",
   "language": "python",
   "name": "python3"
  },
  "language_info": {
   "codemirror_mode": {
    "name": "ipython",
    "version": 3
   },
   "file_extension": ".py",
   "mimetype": "text/x-python",
   "name": "python",
   "nbconvert_exporter": "python",
   "pygments_lexer": "ipython3",
   "version": "3.12.4"
  }
 },
 "nbformat": 4,
 "nbformat_minor": 5
}
