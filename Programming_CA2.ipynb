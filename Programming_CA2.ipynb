{
 "cells": [
  {
   "cell_type": "code",
   "execution_count": 562,
   "id": "aa6f5d71-7cb0-4155-b1bc-17ad4d55ac83",
   "metadata": {},
   "outputs": [],
   "source": [
    "import pandas as pd\n",
    "import numpy as np\n",
    "from datetime import datetime"
   ]
  },
  {
   "cell_type": "markdown",
   "id": "65122a59-9201-47d1-a4e6-dc90de39c14a",
   "metadata": {},
   "source": [
    "Question 1"
   ]
  },
  {
   "cell_type": "markdown",
   "id": "80dd801f-8e99-4ab8-9221-21d1db9fc445",
   "metadata": {},
   "source": [
    "Part (a)"
   ]
  },
  {
   "cell_type": "code",
   "execution_count": 565,
   "id": "61c267f1-0104-49c8-a5c3-8dccdfbfef62",
   "metadata": {},
   "outputs": [
    {
     "name": "stdout",
     "output_type": "stream",
     "text": [
      "3\n"
     ]
    }
   ],
   "source": [
    "#Creating a function that takes in a list and a number\n",
    "def count_repetition(number_list,num):\n",
    "    #return the number of times a number is repeated in the list\n",
    "     return number_list.count(num)\n",
    "range=[1,1,1,2,3,4,5]\n",
    "print(count_repetition(range,1))"
   ]
  },
  {
   "cell_type": "markdown",
   "id": "ad1adb7d-5171-4bd9-aac1-95f3d791dd90",
   "metadata": {},
   "source": [
    "Part (b)"
   ]
  },
  {
   "cell_type": "code",
   "execution_count": 567,
   "id": "1ea022b2-4ab8-4e4f-9943-30d7e1d7fcd3",
   "metadata": {},
   "outputs": [
    {
     "name": "stdout",
     "output_type": "stream",
     "text": [
      "Good Evening\n"
     ]
    }
   ],
   "source": [
    "#creating a function called greeting \n",
    "def greeting():\n",
    "    #get the current time by using datetime import\n",
    "    current_hour = datetime.now().hour\n",
    "    if current_hour < 12:\n",
    "        print(\"Good Morning\")\n",
    "    elif current_hour < 17:\n",
    "        print(\"Good Afternoon\")\n",
    "    else:\n",
    "        print(\"Good Evening\")\n",
    "\n",
    "greeting()\n"
   ]
  },
  {
   "cell_type": "markdown",
   "id": "5e43b068-e3ca-4a20-bfba-1951070f29fd",
   "metadata": {},
   "source": [
    "Part (c)"
   ]
  },
  {
   "cell_type": "code",
   "execution_count": 569,
   "id": "a1d0021e-7282-4bd6-b42f-f717332dc702",
   "metadata": {},
   "outputs": [
    {
     "name": "stdout",
     "output_type": "stream",
     "text": [
      "70\n"
     ]
    }
   ],
   "source": [
    "def loan_repayment(loan_amount, interest_rate, monthly_payment):\n",
    "    #Initialize variable for months\n",
    "    months = 0\n",
    "    #Create a loop to run until the loan amount reaches zero\n",
    "    while loan_amount > 0:\n",
    "        #Adding the interest each month before taking away the monthly payment\n",
    "        loan_amount += loan_amount * (monthly_interest_rate / 100) \n",
    "        loan_amount -= monthly_payment  \n",
    "        #Increase the months by 1 after the payment\n",
    "        months += 1\n",
    "        if loan_amount <= 0:\n",
    "            break\n",
    "    return months\n",
    "print(loan_repayment_duration(5000, 1, 100))"
   ]
  },
  {
   "cell_type": "markdown",
   "id": "8ebdf51d-cc5c-4fcf-b91c-5d9aa1e0e770",
   "metadata": {},
   "source": [
    "Question 2"
   ]
  },
  {
   "cell_type": "code",
   "execution_count": 571,
   "id": "e3e4de9c-5a63-4f9b-9ad1-809298873472",
   "metadata": {},
   "outputs": [
    {
     "data": {
      "text/html": [
       "<div>\n",
       "<style scoped>\n",
       "    .dataframe tbody tr th:only-of-type {\n",
       "        vertical-align: middle;\n",
       "    }\n",
       "\n",
       "    .dataframe tbody tr th {\n",
       "        vertical-align: top;\n",
       "    }\n",
       "\n",
       "    .dataframe thead th {\n",
       "        text-align: right;\n",
       "    }\n",
       "</style>\n",
       "<table border=\"1\" class=\"dataframe\">\n",
       "  <thead>\n",
       "    <tr style=\"text-align: right;\">\n",
       "      <th></th>\n",
       "      <th>order_id</th>\n",
       "      <th>order_date</th>\n",
       "      <th>ship_date</th>\n",
       "      <th>ship_mode</th>\n",
       "      <th>customer_name</th>\n",
       "      <th>segment</th>\n",
       "      <th>state</th>\n",
       "      <th>country</th>\n",
       "      <th>market</th>\n",
       "      <th>region</th>\n",
       "      <th>...</th>\n",
       "      <th>product_name.1</th>\n",
       "      <th>Unit Price</th>\n",
       "      <th>quantity</th>\n",
       "      <th>discount</th>\n",
       "      <th>shipping_cost</th>\n",
       "      <th>order_priority</th>\n",
       "      <th>sales</th>\n",
       "      <th>expenses</th>\n",
       "      <th>revenue</th>\n",
       "      <th>year</th>\n",
       "    </tr>\n",
       "  </thead>\n",
       "  <tbody>\n",
       "    <tr>\n",
       "      <th>0</th>\n",
       "      <td>AG-2011-2040</td>\n",
       "      <td>2011-01-01</td>\n",
       "      <td>2011-01-06</td>\n",
       "      <td>Standard Class</td>\n",
       "      <td>Toby Braunhardt</td>\n",
       "      <td>Consumer</td>\n",
       "      <td>Constantine</td>\n",
       "      <td>Algeria</td>\n",
       "      <td>Africa</td>\n",
       "      <td>Africa</td>\n",
       "      <td>...</td>\n",
       "      <td>Blue</td>\n",
       "      <td>211</td>\n",
       "      <td>2</td>\n",
       "      <td>0.0</td>\n",
       "      <td>35.46</td>\n",
       "      <td>Medium</td>\n",
       "      <td>422</td>\n",
       "      <td>397.9902</td>\n",
       "      <td>457.46</td>\n",
       "      <td>2011</td>\n",
       "    </tr>\n",
       "    <tr>\n",
       "      <th>1</th>\n",
       "      <td>IN-2011-47883</td>\n",
       "      <td>2011-01-01</td>\n",
       "      <td>2011-01-08</td>\n",
       "      <td>Standard Class</td>\n",
       "      <td>Joseph Holt</td>\n",
       "      <td>Consumer</td>\n",
       "      <td>New South Wales</td>\n",
       "      <td>Australia</td>\n",
       "      <td>APAC</td>\n",
       "      <td>Oceania</td>\n",
       "      <td>...</td>\n",
       "      <td>High Speed</td>\n",
       "      <td>129</td>\n",
       "      <td>3</td>\n",
       "      <td>0.1</td>\n",
       "      <td>9.72</td>\n",
       "      <td>Medium</td>\n",
       "      <td>387</td>\n",
       "      <td>311.4774</td>\n",
       "      <td>358.02</td>\n",
       "      <td>2011</td>\n",
       "    </tr>\n",
       "    <tr>\n",
       "      <th>2</th>\n",
       "      <td>HU-2011-1220</td>\n",
       "      <td>2011-01-01</td>\n",
       "      <td>2011-01-05</td>\n",
       "      <td>Second Class</td>\n",
       "      <td>Annie Thurman</td>\n",
       "      <td>Consumer</td>\n",
       "      <td>Budapest</td>\n",
       "      <td>Hungary</td>\n",
       "      <td>EMEA</td>\n",
       "      <td>EMEA</td>\n",
       "      <td>...</td>\n",
       "      <td>Single Width</td>\n",
       "      <td>128</td>\n",
       "      <td>4</td>\n",
       "      <td>0.0</td>\n",
       "      <td>8.17</td>\n",
       "      <td>High</td>\n",
       "      <td>512</td>\n",
       "      <td>452.5479</td>\n",
       "      <td>520.17</td>\n",
       "      <td>2011</td>\n",
       "    </tr>\n",
       "    <tr>\n",
       "      <th>3</th>\n",
       "      <td>IT-2011-3647632</td>\n",
       "      <td>2011-01-01</td>\n",
       "      <td>2011-01-05</td>\n",
       "      <td>Second Class</td>\n",
       "      <td>Eugene Moren</td>\n",
       "      <td>Home Office</td>\n",
       "      <td>Stockholm</td>\n",
       "      <td>Sweden</td>\n",
       "      <td>EU</td>\n",
       "      <td>North</td>\n",
       "      <td>...</td>\n",
       "      <td>Premium</td>\n",
       "      <td>177</td>\n",
       "      <td>3</td>\n",
       "      <td>0.5</td>\n",
       "      <td>4.82</td>\n",
       "      <td>High</td>\n",
       "      <td>531</td>\n",
       "      <td>235.1784</td>\n",
       "      <td>270.32</td>\n",
       "      <td>2011</td>\n",
       "    </tr>\n",
       "    <tr>\n",
       "      <th>4</th>\n",
       "      <td>CA-2011-1510</td>\n",
       "      <td>2011-01-01</td>\n",
       "      <td>2011-01-08</td>\n",
       "      <td>Standard Class</td>\n",
       "      <td>Joseph Holt</td>\n",
       "      <td>Consumer</td>\n",
       "      <td>New South Wales</td>\n",
       "      <td>Australia</td>\n",
       "      <td>APAC</td>\n",
       "      <td>Oceania</td>\n",
       "      <td>...</td>\n",
       "      <td>Duo Pack</td>\n",
       "      <td>222</td>\n",
       "      <td>5</td>\n",
       "      <td>0.1</td>\n",
       "      <td>4.70</td>\n",
       "      <td>Medium</td>\n",
       "      <td>1110</td>\n",
       "      <td>873.2190</td>\n",
       "      <td>1003.70</td>\n",
       "      <td>2088</td>\n",
       "    </tr>\n",
       "  </tbody>\n",
       "</table>\n",
       "<p>5 rows × 24 columns</p>\n",
       "</div>"
      ],
      "text/plain": [
       "          order_id order_date  ship_date       ship_mode    customer_name  \\\n",
       "0     AG-2011-2040 2011-01-01 2011-01-06  Standard Class  Toby Braunhardt   \n",
       "1    IN-2011-47883 2011-01-01 2011-01-08  Standard Class      Joseph Holt   \n",
       "2     HU-2011-1220 2011-01-01 2011-01-05    Second Class    Annie Thurman   \n",
       "3  IT-2011-3647632 2011-01-01 2011-01-05    Second Class     Eugene Moren   \n",
       "4     CA-2011-1510 2011-01-01 2011-01-08  Standard Class      Joseph Holt   \n",
       "\n",
       "       segment            state    country  market   region  ...  \\\n",
       "0     Consumer      Constantine    Algeria  Africa   Africa  ...   \n",
       "1     Consumer  New South Wales  Australia    APAC  Oceania  ...   \n",
       "2     Consumer         Budapest    Hungary    EMEA     EMEA  ...   \n",
       "3  Home Office        Stockholm     Sweden      EU    North  ...   \n",
       "4     Consumer  New South Wales  Australia    APAC  Oceania  ...   \n",
       "\n",
       "  product_name.1 Unit Price quantity discount shipping_cost  order_priority  \\\n",
       "0           Blue        211        2      0.0         35.46          Medium   \n",
       "1     High Speed        129        3      0.1          9.72          Medium   \n",
       "2   Single Width        128        4      0.0          8.17            High   \n",
       "3        Premium        177        3      0.5          4.82            High   \n",
       "4       Duo Pack        222        5      0.1          4.70          Medium   \n",
       "\n",
       "   sales  expenses  revenue   year  \n",
       "0    422  397.9902    457.46  2011  \n",
       "1    387  311.4774    358.02  2011  \n",
       "2    512  452.5479    520.17  2011  \n",
       "3    531  235.1784    270.32  2011  \n",
       "4   1110  873.2190   1003.70  2088  \n",
       "\n",
       "[5 rows x 24 columns]"
      ]
     },
     "execution_count": 571,
     "metadata": {},
     "output_type": "execute_result"
    }
   ],
   "source": [
    "sales=pd.read_excel('sales.xlsx')\n",
    "sales.head()"
   ]
  },
  {
   "cell_type": "code",
   "execution_count": 572,
   "id": "7e78f11a-f86d-43f1-897b-c5a7ba53cfb7",
   "metadata": {},
   "outputs": [
    {
     "name": "stdout",
     "output_type": "stream",
     "text": [
      "<class 'pandas.core.frame.DataFrame'>\n",
      "RangeIndex: 51318 entries, 0 to 51317\n",
      "Data columns (total 24 columns):\n",
      " #   Column          Non-Null Count  Dtype         \n",
      "---  ------          --------------  -----         \n",
      " 0   order_id        51297 non-null  object        \n",
      " 1   order_date      51318 non-null  datetime64[ns]\n",
      " 2   ship_date       51318 non-null  datetime64[ns]\n",
      " 3   ship_mode       51318 non-null  object        \n",
      " 4   customer_name   51318 non-null  object        \n",
      " 5   segment         51318 non-null  object        \n",
      " 6   state           51318 non-null  object        \n",
      " 7   country         51318 non-null  object        \n",
      " 8   market          51318 non-null  object        \n",
      " 9   region          51318 non-null  object        \n",
      " 10  product_id      51297 non-null  object        \n",
      " 11  category        51318 non-null  object        \n",
      " 12  sub_category    51318 non-null  object        \n",
      " 13  product_name    51318 non-null  object        \n",
      " 14  product_name.1  43540 non-null  object        \n",
      " 15  Unit Price      51318 non-null  int64         \n",
      " 16  quantity        51318 non-null  int64         \n",
      " 17  discount        51318 non-null  float64       \n",
      " 18  shipping_cost   51318 non-null  float64       \n",
      " 19  order_priority  51318 non-null  object        \n",
      " 20  sales           51318 non-null  int64         \n",
      " 21  expenses        51318 non-null  float64       \n",
      " 22  revenue         51318 non-null  float64       \n",
      " 23  year            51318 non-null  int64         \n",
      "dtypes: datetime64[ns](2), float64(4), int64(4), object(14)\n",
      "memory usage: 9.4+ MB\n"
     ]
    }
   ],
   "source": [
    "sales.info()\n",
    "#order date and ship date are already datetime format and therefore do not need to be converted"
   ]
  },
  {
   "cell_type": "markdown",
   "id": "8a7b6d2d-440f-4224-85d8-79fc864b3676",
   "metadata": {},
   "source": [
    "Part (a)"
   ]
  },
  {
   "cell_type": "code",
   "execution_count": 574,
   "id": "c05b7e7a-5d74-4dc6-b0bd-4a1f5cd590fa",
   "metadata": {},
   "outputs": [
    {
     "name": "stdout",
     "output_type": "stream",
     "text": [
      "['Rubbermaid Light Bulb' 'Deflect-O Stacking Tray' 'Cisco Signal Booster'\n",
      " 'Tenex Lockers' 'Fiskars Trimmer' 'Avery Index Tab' 'Panasonic Printer'\n",
      " 'Office Star Swivel Stool' 'Novimex Swivel Stool' 'Cisco Audio Dock'\n",
      " 'SanDisk Parchment Paper' 'Elite Letter Opener'\n",
      " 'Novimex Removable Labels' 'Eldon File Cart' 'Apple Office Telephone'\n",
      " 'Novimex Round Labels' 'BIC Pencil Sharpener']\n"
     ]
    }
   ],
   "source": [
    "#Set the country and order date column as indexes without dropping them as usable columns, and using inplace as true so as to not take up more memory\n",
    "#Sort the data to use index slicing to obtain the product names\n",
    "sales.set_index(['country', 'order_date'],drop=False, inplace=True)\n",
    "sales = sales.sort_index(level=['country', 'order_date']) \n",
    "idx = pd.IndexSlice\n",
    "#using unique() will provide values that are not repeated\n",
    "print(sales.loc[idx['Australia', '2011-02-01':'2011-02-28'], :]['product_name'].unique())"
   ]
  },
  {
   "cell_type": "markdown",
   "id": "4e13a0e4-4880-4bef-a3b8-c23e71f8458e",
   "metadata": {},
   "source": [
    "Part (b)"
   ]
  },
  {
   "cell_type": "code",
   "execution_count": 576,
   "id": "48d3aea7-646e-4c5d-b4b9-a60259f3bf23",
   "metadata": {},
   "outputs": [
    {
     "name": "stdout",
     "output_type": "stream",
     "text": [
      "Mean revenue of the orders placed between 4th March and 26th June is: 715.8658956628478\n"
     ]
    }
   ],
   "source": [
    "# Set order date and revnue as indexes and sort them inplace. Since the revenue column is not dropped it can be used to find the mean\n",
    "# The Revenue column in the given dataset has a space after the word and it is why there is a space before the quotation is closed\n",
    "sales.set_index(['order_date', 'revenue '],drop=False, inplace=True)\n",
    "sales.sort_index(inplace=True)\n",
    "sales_in_March_June = sales.loc['2014-03-04':'2014-06-26']\n",
    "print(\"Mean revenue of the orders placed between 4th March and 26th June is:\",sales_in_March_June['revenue '].mean() )"
   ]
  },
  {
   "cell_type": "markdown",
   "id": "b248277e-89d4-474d-87f6-d942816cc6cc",
   "metadata": {},
   "source": [
    "Part (c)"
   ]
  },
  {
   "cell_type": "code",
   "execution_count": 578,
   "id": "1163cce2-10a5-4ba2-a336-dea63d27c925",
   "metadata": {},
   "outputs": [
    {
     "name": "stdout",
     "output_type": "stream",
     "text": [
      "Product with the highest revenue and Critical priority: ['Rogers Shelving']\n"
     ]
    }
   ],
   "source": [
    "#Setting the order priority and product name as the indexes and then using the xs() function to take the rows which are 'Critical'\n",
    "sales.set_index(['order_priority', 'product_name'],drop=False, inplace=True)\n",
    "sales.sort_index(inplace=True)\n",
    "#After extracting the critical columns sort the values in descending order by revenue\n",
    "critical_sales = sales.xs('Critical', level='order_priority').sort_values(by='revenue ', ascending =False)\n",
    "highest_revenue_products = critical_sales[critical_sales['revenue '] == critical_sales['revenue '].iloc[0]]\n",
    "# Getting the product name without repetition\n",
    "print(\"Product with the highest revenue and Critical priority:\", highest_revenue_products['product_name'].unique())"
   ]
  },
  {
   "cell_type": "markdown",
   "id": "0e52524d-79f1-48e2-bad0-80da388e84e5",
   "metadata": {},
   "source": [
    "Part(d)"
   ]
  },
  {
   "cell_type": "code",
   "execution_count": 580,
   "id": "0c9cd35b-3357-4dfd-acd4-97184f3527bd",
   "metadata": {},
   "outputs": [
    {
     "name": "stdout",
     "output_type": "stream",
     "text": [
      "The country with the highest total revenue in 2012 is: United States\n"
     ]
    }
   ],
   "source": [
    "#Set year and country as index\n",
    "sales.set_index(['year', 'country'],drop=False, inplace=True)\n",
    "sales.sort_index(inplace=True)\n",
    "#Using the xs function extract country rows of 2012, group the revenues by country and then find the sum of the revenue\n",
    "country_revenue_2012 = sales.xs(2012, level='year')['revenue '].groupby('country').sum()\n",
    "#Extract the country with the highest revenue\n",
    "print(\"The country with the highest total revenue in 2012 is:\",country_revenue_2012.idxmax())"
   ]
  },
  {
   "cell_type": "markdown",
   "id": "db46da5a-238b-4924-a0d6-35e132c3e63c",
   "metadata": {},
   "source": [
    "Part (e)"
   ]
  },
  {
   "cell_type": "code",
   "execution_count": 582,
   "id": "32426e2a-1992-4fd2-a964-69ef69c3f16b",
   "metadata": {},
   "outputs": [
    {
     "name": "stdout",
     "output_type": "stream",
     "text": [
      "The median unit price of products in the 'Office Supplies' category across all years is: 238.0\n"
     ]
    }
   ],
   "source": [
    "# Set category and year as the index\n",
    "sales.set_index(['category', 'year'], inplace=True)\n",
    "sales.sort_index(inplace=True)\n",
    "#Extract the rows where the category is office supplies\n",
    "office_supplies = sales.xs('OFFICE SUPPLIES',level='category')\n",
    "# Find the median of the unit price of the extracted rows\n",
    "print(\"The median unit price of products in the 'Office Supplies' category across all years is:\",office_supplies['Unit Price'].median())"
   ]
  },
  {
   "cell_type": "markdown",
   "id": "0aa8b937-fd01-4075-aff2-ecf2a1713b33",
   "metadata": {},
   "source": [
    "Part (f)"
   ]
  },
  {
   "cell_type": "code",
   "execution_count": 584,
   "id": "14e1d3ea-b685-4c6a-9b2b-bc61b514dd0f",
   "metadata": {},
   "outputs": [
    {
     "name": "stdout",
     "output_type": "stream",
     "text": [
      "The average number of days between order date and ship date for orders placed in 2013 is: 3.9815928690484816\n"
     ]
    }
   ],
   "source": [
    "#Since hierarchial indexing doesnt have to be used, multiple indexes were not set\n",
    "#Find the rows where the order date is in 2013\n",
    "sales_2013 = sales[sales['order_date'].dt.year == 2013]\n",
    "# Find the number of days between the order date and the ship date and then find the average\n",
    "average_days_to_ship = (sales_2013['ship_date'] - sales_2013['order_date']).dt.days.mean()\n",
    "print(\"The average number of days between order date and ship date for orders placed in 2013 is:\",average_days_to_ship)"
   ]
  },
  {
   "cell_type": "markdown",
   "id": "fa3cb3e5-04ff-411e-97c9-79ff346c5816",
   "metadata": {},
   "source": [
    "Question 3"
   ]
  },
  {
   "cell_type": "code",
   "execution_count": 586,
   "id": "1af7efb2-26ef-4e96-bff9-b28893a13b3a",
   "metadata": {},
   "outputs": [],
   "source": [
    "#Since the data in the excel file is split into many sheets but all of them have certain data in common which are Region,Area,Date,Offenses and Monetary Amounts\n",
    "# Using those as columns the below function split the data from each sheet into two dataframes, one for offense counts and the other for monetary amount\n",
    "# two dataframes are created as the two different datas are in different parts of the same sheet\n",
    "# The four parameters after sheet name are the rows in which the data starts and ends to avoid getting the rows of sum and avoiding the offense counts to have values from the monetary table\n",
    "def load_offenses_and_monetary(sheet_name, offenses_skip, offenses_end, monetary_skip, monetary_end):\n",
    "    offenses_df = pd.read_excel('PoliceData1jan2009to30jun2019.xlsx',sheet_name=sheet_name,skiprows=offenses_skip,nrows=offenses_end-offenses_skip)\n",
    "    #Setting the first two columns as the Region and Area headings\n",
    "    offenses_df.columns.values[0:2] = ['Region', 'Area']\n",
    "    #Splitting the data by setting the Region and Area as index adn then using the stack function to split the data into according to the dates and offenses\n",
    "    offenses_df = offenses_df.set_index(['Region', 'Area']).stack().reset_index()\n",
    "    offenses_df.columns = ['Region', 'Area', 'Date', 'Offenses Count'] \n",
    "    #Doing the same as above for the monetary amount\n",
    "    monetary_df = pd.read_excel('PoliceData1jan2009to30jun2019.xlsx',sheet_name=sheet_name,skiprows=monetary_skip,nrows=monetary_end-monetary_skip)\n",
    "    monetary_df.columns.values[0:2] = ['Region', 'Area']\n",
    "    monetary_df = monetary_df.set_index(['Region', 'Area']).stack().reset_index()\n",
    "    monetary_df.columns = ['Region', 'Area', 'Date', 'Monetary Amount']\n",
    "    #Combining both dataframes making sure the region, area and date are the same to ensure the data is correspoding to the other values adn not just random\n",
    "    combined_df = pd.merge(offenses_df, monetary_df, on=['Region', 'Area', 'Date'], how='left')\n",
    "\n",
    "    #Since the stack function converts the row of data to the column, some blocks contain 'total' as the value. The below code sets those values to NA and then removes it.\n",
    "    combined_df['Date'] = np.where(combined_df['Date'].str.contains('Total', case=False, na=False), pd.NA, combined_df['Date'])\n",
    "    combined_df.dropna(subset=['Date'], inplace=True)  \n",
    "    \n",
    "    return combined_df"
   ]
  },
  {
   "cell_type": "code",
   "execution_count": 587,
   "id": "fd5bad39-b838-47a6-96a2-1d6f73bb8fb9",
   "metadata": {},
   "outputs": [
    {
     "data": {
      "text/html": [
       "<div>\n",
       "<style scoped>\n",
       "    .dataframe tbody tr th:only-of-type {\n",
       "        vertical-align: middle;\n",
       "    }\n",
       "\n",
       "    .dataframe tbody tr th {\n",
       "        vertical-align: top;\n",
       "    }\n",
       "\n",
       "    .dataframe thead th {\n",
       "        text-align: right;\n",
       "    }\n",
       "</style>\n",
       "<table border=\"1\" class=\"dataframe\">\n",
       "  <thead>\n",
       "    <tr style=\"text-align: right;\">\n",
       "      <th></th>\n",
       "      <th>Region</th>\n",
       "      <th>Area</th>\n",
       "      <th>Date</th>\n",
       "      <th>Offenses Count</th>\n",
       "      <th>Monetary Amount</th>\n",
       "      <th>Offense</th>\n",
       "    </tr>\n",
       "  </thead>\n",
       "  <tbody>\n",
       "    <tr>\n",
       "      <th>0</th>\n",
       "      <td>Auckland</td>\n",
       "      <td>Auckland Central Area</td>\n",
       "      <td>2009-01-01 00:00:00</td>\n",
       "      <td>78</td>\n",
       "      <td>11700</td>\n",
       "      <td>Red Light</td>\n",
       "    </tr>\n",
       "    <tr>\n",
       "      <th>1</th>\n",
       "      <td>Auckland</td>\n",
       "      <td>Auckland Central Area</td>\n",
       "      <td>2009-01-01 00:00:00</td>\n",
       "      <td>78</td>\n",
       "      <td>82650</td>\n",
       "      <td>Red Light</td>\n",
       "    </tr>\n",
       "    <tr>\n",
       "      <th>2</th>\n",
       "      <td>Auckland</td>\n",
       "      <td>Auckland Central Area</td>\n",
       "      <td>2009-02-01 00:00:00</td>\n",
       "      <td>105</td>\n",
       "      <td>15750</td>\n",
       "      <td>Red Light</td>\n",
       "    </tr>\n",
       "    <tr>\n",
       "      <th>3</th>\n",
       "      <td>Auckland</td>\n",
       "      <td>Auckland Central Area</td>\n",
       "      <td>2009-02-01 00:00:00</td>\n",
       "      <td>105</td>\n",
       "      <td>2700</td>\n",
       "      <td>Red Light</td>\n",
       "    </tr>\n",
       "    <tr>\n",
       "      <th>4</th>\n",
       "      <td>Auckland</td>\n",
       "      <td>Auckland Central Area</td>\n",
       "      <td>2009-03-01 00:00:00</td>\n",
       "      <td>123</td>\n",
       "      <td>18450</td>\n",
       "      <td>Red Light</td>\n",
       "    </tr>\n",
       "  </tbody>\n",
       "</table>\n",
       "</div>"
      ],
      "text/plain": [
       "     Region                   Area                 Date Offenses Count  \\\n",
       "0  Auckland  Auckland Central Area  2009-01-01 00:00:00             78   \n",
       "1  Auckland  Auckland Central Area  2009-01-01 00:00:00             78   \n",
       "2  Auckland  Auckland Central Area  2009-02-01 00:00:00            105   \n",
       "3  Auckland  Auckland Central Area  2009-02-01 00:00:00            105   \n",
       "4  Auckland  Auckland Central Area  2009-03-01 00:00:00            123   \n",
       "\n",
       "  Monetary Amount    Offense  \n",
       "0           11700  Red Light  \n",
       "1           82650  Red Light  \n",
       "2           15750  Red Light  \n",
       "3            2700  Red Light  \n",
       "4           18450  Red Light  "
      ]
     },
     "execution_count": 587,
     "metadata": {},
     "output_type": "execute_result"
    }
   ],
   "source": [
    "#getting the data from red light sheet\n",
    "red_light_df=load_offenses_and_monetary('Red Light',2,55,57,110)\n",
    "red_light_df['Offense']='Red Light'\n",
    "red_light_df.head()"
   ]
  },
  {
   "cell_type": "code",
   "execution_count": 588,
   "id": "c347f419-065e-4386-8db7-18c7ab9a3406",
   "metadata": {},
   "outputs": [
    {
     "data": {
      "text/html": [
       "<div>\n",
       "<style scoped>\n",
       "    .dataframe tbody tr th:only-of-type {\n",
       "        vertical-align: middle;\n",
       "    }\n",
       "\n",
       "    .dataframe tbody tr th {\n",
       "        vertical-align: top;\n",
       "    }\n",
       "\n",
       "    .dataframe thead th {\n",
       "        text-align: right;\n",
       "    }\n",
       "</style>\n",
       "<table border=\"1\" class=\"dataframe\">\n",
       "  <thead>\n",
       "    <tr style=\"text-align: right;\">\n",
       "      <th></th>\n",
       "      <th>Region</th>\n",
       "      <th>Area</th>\n",
       "      <th>Date</th>\n",
       "      <th>Offenses Count</th>\n",
       "      <th>Monetary Amount</th>\n",
       "      <th>Offense</th>\n",
       "    </tr>\n",
       "  </thead>\n",
       "  <tbody>\n",
       "    <tr>\n",
       "      <th>0</th>\n",
       "      <td>Auckland</td>\n",
       "      <td>Auckland Central Area</td>\n",
       "      <td>2009-01-01 00:00:00</td>\n",
       "      <td>113.0</td>\n",
       "      <td>16950</td>\n",
       "      <td>Restraint</td>\n",
       "    </tr>\n",
       "    <tr>\n",
       "      <th>1</th>\n",
       "      <td>Auckland</td>\n",
       "      <td>Auckland Central Area</td>\n",
       "      <td>2009-02-01 00:00:00</td>\n",
       "      <td>55.0</td>\n",
       "      <td>8250</td>\n",
       "      <td>Restraint</td>\n",
       "    </tr>\n",
       "    <tr>\n",
       "      <th>2</th>\n",
       "      <td>Auckland</td>\n",
       "      <td>Auckland Central Area</td>\n",
       "      <td>2009-03-01 00:00:00</td>\n",
       "      <td>120.0</td>\n",
       "      <td>18000</td>\n",
       "      <td>Restraint</td>\n",
       "    </tr>\n",
       "    <tr>\n",
       "      <th>3</th>\n",
       "      <td>Auckland</td>\n",
       "      <td>Auckland Central Area</td>\n",
       "      <td>2009-04-01 00:00:00</td>\n",
       "      <td>91.0</td>\n",
       "      <td>13650</td>\n",
       "      <td>Restraint</td>\n",
       "    </tr>\n",
       "    <tr>\n",
       "      <th>4</th>\n",
       "      <td>Auckland</td>\n",
       "      <td>Auckland Central Area</td>\n",
       "      <td>2009-05-01 00:00:00</td>\n",
       "      <td>87.0</td>\n",
       "      <td>13050</td>\n",
       "      <td>Restraint</td>\n",
       "    </tr>\n",
       "  </tbody>\n",
       "</table>\n",
       "</div>"
      ],
      "text/plain": [
       "     Region                   Area                 Date  Offenses Count  \\\n",
       "0  Auckland  Auckland Central Area  2009-01-01 00:00:00           113.0   \n",
       "1  Auckland  Auckland Central Area  2009-02-01 00:00:00            55.0   \n",
       "2  Auckland  Auckland Central Area  2009-03-01 00:00:00           120.0   \n",
       "3  Auckland  Auckland Central Area  2009-04-01 00:00:00            91.0   \n",
       "4  Auckland  Auckland Central Area  2009-05-01 00:00:00            87.0   \n",
       "\n",
       "   Monetary Amount    Offense  \n",
       "0            16950  Restraint  \n",
       "1             8250  Restraint  \n",
       "2            18000  Restraint  \n",
       "3            13650  Restraint  \n",
       "4            13050  Restraint  "
      ]
     },
     "execution_count": 588,
     "metadata": {},
     "output_type": "execute_result"
    }
   ],
   "source": [
    "#getting the data from restraints sheet\n",
    "restraints_df=load_offenses_and_monetary('Restraints',2,43,45,86)\n",
    "restraints_df['Offense']='Restraint'\n",
    "restraints_df.head()"
   ]
  },
  {
   "cell_type": "code",
   "execution_count": 589,
   "id": "77537fc0-5d04-45ce-acae-dacd593960d4",
   "metadata": {},
   "outputs": [
    {
     "data": {
      "text/html": [
       "<div>\n",
       "<style scoped>\n",
       "    .dataframe tbody tr th:only-of-type {\n",
       "        vertical-align: middle;\n",
       "    }\n",
       "\n",
       "    .dataframe tbody tr th {\n",
       "        vertical-align: top;\n",
       "    }\n",
       "\n",
       "    .dataframe thead th {\n",
       "        text-align: right;\n",
       "    }\n",
       "</style>\n",
       "<table border=\"1\" class=\"dataframe\">\n",
       "  <thead>\n",
       "    <tr style=\"text-align: right;\">\n",
       "      <th></th>\n",
       "      <th>Region</th>\n",
       "      <th>Area</th>\n",
       "      <th>Date</th>\n",
       "      <th>Offenses Count</th>\n",
       "      <th>Monetary Amount</th>\n",
       "      <th>Offense</th>\n",
       "    </tr>\n",
       "  </thead>\n",
       "  <tbody>\n",
       "    <tr>\n",
       "      <th>0</th>\n",
       "      <td>Auckland</td>\n",
       "      <td>Auckland Central Area</td>\n",
       "      <td>2009-01-01 00:00:00</td>\n",
       "      <td>97.0</td>\n",
       "      <td>NaN</td>\n",
       "      <td>Alcohol</td>\n",
       "    </tr>\n",
       "    <tr>\n",
       "      <th>1</th>\n",
       "      <td>Auckland</td>\n",
       "      <td>Auckland Central Area</td>\n",
       "      <td>2009-02-01 00:00:00</td>\n",
       "      <td>45.0</td>\n",
       "      <td>NaN</td>\n",
       "      <td>Alcohol</td>\n",
       "    </tr>\n",
       "    <tr>\n",
       "      <th>2</th>\n",
       "      <td>Auckland</td>\n",
       "      <td>Auckland Central Area</td>\n",
       "      <td>2009-03-01 00:00:00</td>\n",
       "      <td>114.0</td>\n",
       "      <td>NaN</td>\n",
       "      <td>Alcohol</td>\n",
       "    </tr>\n",
       "    <tr>\n",
       "      <th>3</th>\n",
       "      <td>Auckland</td>\n",
       "      <td>Auckland Central Area</td>\n",
       "      <td>2009-04-01 00:00:00</td>\n",
       "      <td>123.0</td>\n",
       "      <td>NaN</td>\n",
       "      <td>Alcohol</td>\n",
       "    </tr>\n",
       "    <tr>\n",
       "      <th>4</th>\n",
       "      <td>Auckland</td>\n",
       "      <td>Auckland Central Area</td>\n",
       "      <td>2009-05-01 00:00:00</td>\n",
       "      <td>115.0</td>\n",
       "      <td>NaN</td>\n",
       "      <td>Alcohol</td>\n",
       "    </tr>\n",
       "  </tbody>\n",
       "</table>\n",
       "</div>"
      ],
      "text/plain": [
       "     Region                   Area                 Date  Offenses Count  \\\n",
       "0  Auckland  Auckland Central Area  2009-01-01 00:00:00            97.0   \n",
       "1  Auckland  Auckland Central Area  2009-02-01 00:00:00            45.0   \n",
       "2  Auckland  Auckland Central Area  2009-03-01 00:00:00           114.0   \n",
       "3  Auckland  Auckland Central Area  2009-04-01 00:00:00           123.0   \n",
       "4  Auckland  Auckland Central Area  2009-05-01 00:00:00           115.0   \n",
       "\n",
       "   Monetary Amount  Offense  \n",
       "0              NaN  Alcohol  \n",
       "1              NaN  Alcohol  \n",
       "2              NaN  Alcohol  \n",
       "3              NaN  Alcohol  \n",
       "4              NaN  Alcohol  "
      ]
     },
     "execution_count": 589,
     "metadata": {},
     "output_type": "execute_result"
    }
   ],
   "source": [
    "#getting the data from alcohol sheet\n",
    "alcohol_df=load_offenses_and_monetary('Alcohol & Drugs',2,43,88,129)\n",
    "alcohol_df['Offense']='Alcohol'\n",
    "alcohol_df.head()\n",
    "# Since the drug offense does not contain a monetary amount according to the contents, its not being considered for this table"
   ]
  },
  {
   "cell_type": "code",
   "execution_count": 590,
   "id": "70fb5bdf-2a9a-4bbd-9c34-4c01b99f2331",
   "metadata": {},
   "outputs": [
    {
     "data": {
      "text/html": [
       "<div>\n",
       "<style scoped>\n",
       "    .dataframe tbody tr th:only-of-type {\n",
       "        vertical-align: middle;\n",
       "    }\n",
       "\n",
       "    .dataframe tbody tr th {\n",
       "        vertical-align: top;\n",
       "    }\n",
       "\n",
       "    .dataframe thead th {\n",
       "        text-align: right;\n",
       "    }\n",
       "</style>\n",
       "<table border=\"1\" class=\"dataframe\">\n",
       "  <thead>\n",
       "    <tr style=\"text-align: right;\">\n",
       "      <th></th>\n",
       "      <th>Region</th>\n",
       "      <th>Area</th>\n",
       "      <th>Date</th>\n",
       "      <th>Offenses Count</th>\n",
       "      <th>Monetary Amount</th>\n",
       "      <th>Offense</th>\n",
       "    </tr>\n",
       "  </thead>\n",
       "  <tbody>\n",
       "    <tr>\n",
       "      <th>0</th>\n",
       "      <td>Auckland</td>\n",
       "      <td>Auckland Central Area</td>\n",
       "      <td>2009-11-01 00:00:00</td>\n",
       "      <td>65.0</td>\n",
       "      <td>5200.0</td>\n",
       "      <td>Mobile Phone</td>\n",
       "    </tr>\n",
       "    <tr>\n",
       "      <th>1</th>\n",
       "      <td>Auckland</td>\n",
       "      <td>Auckland Central Area</td>\n",
       "      <td>2009-12-01 00:00:00</td>\n",
       "      <td>37.0</td>\n",
       "      <td>3030.0</td>\n",
       "      <td>Mobile Phone</td>\n",
       "    </tr>\n",
       "    <tr>\n",
       "      <th>3</th>\n",
       "      <td>Auckland</td>\n",
       "      <td>Auckland Central Area</td>\n",
       "      <td>2010-01-01 00:00:00</td>\n",
       "      <td>38.0</td>\n",
       "      <td>3040.0</td>\n",
       "      <td>Mobile Phone</td>\n",
       "    </tr>\n",
       "    <tr>\n",
       "      <th>4</th>\n",
       "      <td>Auckland</td>\n",
       "      <td>Auckland Central Area</td>\n",
       "      <td>2010-02-01 00:00:00</td>\n",
       "      <td>94.0</td>\n",
       "      <td>7520.0</td>\n",
       "      <td>Mobile Phone</td>\n",
       "    </tr>\n",
       "    <tr>\n",
       "      <th>5</th>\n",
       "      <td>Auckland</td>\n",
       "      <td>Auckland Central Area</td>\n",
       "      <td>2010-03-01 00:00:00</td>\n",
       "      <td>81.0</td>\n",
       "      <td>6470.0</td>\n",
       "      <td>Mobile Phone</td>\n",
       "    </tr>\n",
       "  </tbody>\n",
       "</table>\n",
       "</div>"
      ],
      "text/plain": [
       "     Region                   Area                 Date  Offenses Count  \\\n",
       "0  Auckland  Auckland Central Area  2009-11-01 00:00:00            65.0   \n",
       "1  Auckland  Auckland Central Area  2009-12-01 00:00:00            37.0   \n",
       "3  Auckland  Auckland Central Area  2010-01-01 00:00:00            38.0   \n",
       "4  Auckland  Auckland Central Area  2010-02-01 00:00:00            94.0   \n",
       "5  Auckland  Auckland Central Area  2010-03-01 00:00:00            81.0   \n",
       "\n",
       "   Monetary Amount       Offense  \n",
       "0           5200.0  Mobile Phone  \n",
       "1           3030.0  Mobile Phone  \n",
       "3           3040.0  Mobile Phone  \n",
       "4           7520.0  Mobile Phone  \n",
       "5           6470.0  Mobile Phone  "
      ]
     },
     "execution_count": 590,
     "metadata": {},
     "output_type": "execute_result"
    }
   ],
   "source": [
    "#getting the data from mobile phone sheet\n",
    "mobile_phone_df=load_offenses_and_monetary('Mobile phone',2,43,45,85)\n",
    "mobile_phone_df['Offense']='Mobile Phone'\n",
    "mobile_phone_df.head()"
   ]
  },
  {
   "cell_type": "code",
   "execution_count": 591,
   "id": "f3cc1fa7-f852-4803-b4be-9b1fd77b6986",
   "metadata": {},
   "outputs": [],
   "source": [
    "#getting the data from mobile speed camera sheet\n",
    "mobile_speed_df=load_offenses_and_monetary('Mobile Speed Camera',2,42,48,88)"
   ]
  },
  {
   "cell_type": "code",
   "execution_count": 592,
   "id": "30c956fa-f38a-406c-bade-2a543810d078",
   "metadata": {},
   "outputs": [],
   "source": [
    "#getting the data from static speed camera sheet\n",
    "static_speed_df=load_offenses_and_monetary('Static Speed Camera',3,111,117,225)\n"
   ]
  },
  {
   "cell_type": "code",
   "execution_count": 593,
   "id": "673afbbd-f58f-48ba-a383-745437fb574f",
   "metadata": {},
   "outputs": [],
   "source": [
    "#getting the data from officer speed  sheet\n",
    "officer_speed_df=load_offenses_and_monetary('Officer-issued Speed',2,42,48,88)"
   ]
  },
  {
   "cell_type": "code",
   "execution_count": 594,
   "id": "cf1d91d9-57f6-4785-9d50-ea97545630fe",
   "metadata": {},
   "outputs": [
    {
     "data": {
      "text/html": [
       "<div>\n",
       "<style scoped>\n",
       "    .dataframe tbody tr th:only-of-type {\n",
       "        vertical-align: middle;\n",
       "    }\n",
       "\n",
       "    .dataframe tbody tr th {\n",
       "        vertical-align: top;\n",
       "    }\n",
       "\n",
       "    .dataframe thead th {\n",
       "        text-align: right;\n",
       "    }\n",
       "</style>\n",
       "<table border=\"1\" class=\"dataframe\">\n",
       "  <thead>\n",
       "    <tr style=\"text-align: right;\">\n",
       "      <th></th>\n",
       "      <th>Region</th>\n",
       "      <th>Area</th>\n",
       "      <th>Date</th>\n",
       "      <th>Offenses Count</th>\n",
       "      <th>Monetary Amount</th>\n",
       "      <th>Offense</th>\n",
       "    </tr>\n",
       "  </thead>\n",
       "  <tbody>\n",
       "    <tr>\n",
       "      <th>0</th>\n",
       "      <td>Auckland</td>\n",
       "      <td>Auckland Central Area</td>\n",
       "      <td>2009-05-01 00:00:00</td>\n",
       "      <td>1.0</td>\n",
       "      <td>30.0</td>\n",
       "      <td>Speeding</td>\n",
       "    </tr>\n",
       "    <tr>\n",
       "      <th>1</th>\n",
       "      <td>Auckland</td>\n",
       "      <td>Auckland Central Area</td>\n",
       "      <td>2009-07-01 00:00:00</td>\n",
       "      <td>32.0</td>\n",
       "      <td>1350.0</td>\n",
       "      <td>Speeding</td>\n",
       "    </tr>\n",
       "    <tr>\n",
       "      <th>2</th>\n",
       "      <td>Auckland</td>\n",
       "      <td>Auckland Central Area</td>\n",
       "      <td>2009-08-01 00:00:00</td>\n",
       "      <td>34.0</td>\n",
       "      <td>1560.0</td>\n",
       "      <td>Speeding</td>\n",
       "    </tr>\n",
       "    <tr>\n",
       "      <th>3</th>\n",
       "      <td>Auckland</td>\n",
       "      <td>Auckland Central Area</td>\n",
       "      <td>2009-09-01 00:00:00</td>\n",
       "      <td>25.0</td>\n",
       "      <td>1650.0</td>\n",
       "      <td>Speeding</td>\n",
       "    </tr>\n",
       "    <tr>\n",
       "      <th>4</th>\n",
       "      <td>Auckland</td>\n",
       "      <td>Auckland Central Area</td>\n",
       "      <td>2009-10-01 00:00:00</td>\n",
       "      <td>3.0</td>\n",
       "      <td>240.0</td>\n",
       "      <td>Speeding</td>\n",
       "    </tr>\n",
       "  </tbody>\n",
       "</table>\n",
       "</div>"
      ],
      "text/plain": [
       "     Region                   Area                 Date Offenses Count  \\\n",
       "0  Auckland  Auckland Central Area  2009-05-01 00:00:00            1.0   \n",
       "1  Auckland  Auckland Central Area  2009-07-01 00:00:00           32.0   \n",
       "2  Auckland  Auckland Central Area  2009-08-01 00:00:00           34.0   \n",
       "3  Auckland  Auckland Central Area  2009-09-01 00:00:00           25.0   \n",
       "4  Auckland  Auckland Central Area  2009-10-01 00:00:00            3.0   \n",
       "\n",
       "  Monetary Amount   Offense  \n",
       "0            30.0  Speeding  \n",
       "1          1350.0  Speeding  \n",
       "2          1560.0  Speeding  \n",
       "3          1650.0  Speeding  \n",
       "4           240.0  Speeding  "
      ]
     },
     "execution_count": 594,
     "metadata": {},
     "output_type": "execute_result"
    }
   ],
   "source": [
    "#Combining the above dfs since they are all under the offense of speeding\n",
    "speeding_df=pd.concat([mobile_speed_df, officer_speed_df,static_speed_df], ignore_index=True)\n",
    "speeding_df['Offense']='Speeding'\n",
    "speeding_df.head()"
   ]
  },
  {
   "cell_type": "code",
   "execution_count": 595,
   "id": "ffc85879-9ab4-426f-aca9-ad3a3ef850da",
   "metadata": {},
   "outputs": [
    {
     "data": {
      "text/html": [
       "<div>\n",
       "<style scoped>\n",
       "    .dataframe tbody tr th:only-of-type {\n",
       "        vertical-align: middle;\n",
       "    }\n",
       "\n",
       "    .dataframe tbody tr th {\n",
       "        vertical-align: top;\n",
       "    }\n",
       "\n",
       "    .dataframe thead th {\n",
       "        text-align: right;\n",
       "    }\n",
       "</style>\n",
       "<table border=\"1\" class=\"dataframe\">\n",
       "  <thead>\n",
       "    <tr style=\"text-align: right;\">\n",
       "      <th></th>\n",
       "      <th>Region</th>\n",
       "      <th>Area</th>\n",
       "      <th>Date</th>\n",
       "      <th>Offenses Count</th>\n",
       "      <th>Monetary Amount</th>\n",
       "      <th>Offense</th>\n",
       "    </tr>\n",
       "  </thead>\n",
       "  <tbody>\n",
       "    <tr>\n",
       "      <th>0</th>\n",
       "      <td>Auckland</td>\n",
       "      <td>Auckland Central</td>\n",
       "      <td>2010-08-01 00:00:00</td>\n",
       "      <td>1.0</td>\n",
       "      <td>120.0</td>\n",
       "      <td>Police Speeding</td>\n",
       "    </tr>\n",
       "    <tr>\n",
       "      <th>1</th>\n",
       "      <td>Auckland</td>\n",
       "      <td>Auckland Central</td>\n",
       "      <td>2010-09-01 00:00:00</td>\n",
       "      <td>1.0</td>\n",
       "      <td>80.0</td>\n",
       "      <td>Police Speeding</td>\n",
       "    </tr>\n",
       "    <tr>\n",
       "      <th>2</th>\n",
       "      <td>Auckland</td>\n",
       "      <td>Auckland Central</td>\n",
       "      <td>2010-10-01 00:00:00</td>\n",
       "      <td>4.0</td>\n",
       "      <td>320.0</td>\n",
       "      <td>Police Speeding</td>\n",
       "    </tr>\n",
       "    <tr>\n",
       "      <th>4</th>\n",
       "      <td>Auckland</td>\n",
       "      <td>Auckland Central</td>\n",
       "      <td>2011-10-01 00:00:00</td>\n",
       "      <td>2.0</td>\n",
       "      <td>60.0</td>\n",
       "      <td>Police Speeding</td>\n",
       "    </tr>\n",
       "    <tr>\n",
       "      <th>5</th>\n",
       "      <td>Auckland</td>\n",
       "      <td>Auckland Central</td>\n",
       "      <td>2011-11-01 00:00:00</td>\n",
       "      <td>2.0</td>\n",
       "      <td>160.0</td>\n",
       "      <td>Police Speeding</td>\n",
       "    </tr>\n",
       "  </tbody>\n",
       "</table>\n",
       "</div>"
      ],
      "text/plain": [
       "     Region              Area                 Date  Offenses Count  \\\n",
       "0  Auckland  Auckland Central  2010-08-01 00:00:00             1.0   \n",
       "1  Auckland  Auckland Central  2010-09-01 00:00:00             1.0   \n",
       "2  Auckland  Auckland Central  2010-10-01 00:00:00             4.0   \n",
       "4  Auckland  Auckland Central  2011-10-01 00:00:00             2.0   \n",
       "5  Auckland  Auckland Central  2011-11-01 00:00:00             2.0   \n",
       "\n",
       "   Monetary Amount          Offense  \n",
       "0            120.0  Police Speeding  \n",
       "1             80.0  Police Speeding  \n",
       "2            320.0  Police Speeding  \n",
       "4             60.0  Police Speeding  \n",
       "5            160.0  Police Speeding  "
      ]
     },
     "execution_count": 595,
     "metadata": {},
     "output_type": "execute_result"
    }
   ],
   "source": [
    "#getting the data from Police speeding sheet\n",
    "police_speed_df=load_offenses_and_monetary('Police Speeding',2,42,45,85)\n",
    "police_speed_df['Offense']='Police Speeding'\n",
    "police_speed_df.head()"
   ]
  },
  {
   "cell_type": "code",
   "execution_count": 596,
   "id": "803ce766-4199-46bb-a917-00f69f0500c2",
   "metadata": {},
   "outputs": [
    {
     "name": "stdout",
     "output_type": "stream",
     "text": [
      "<class 'pandas.core.frame.DataFrame'>\n",
      "Index: 35268 entries, 0 to 35310\n",
      "Data columns (total 6 columns):\n",
      " #   Column           Non-Null Count  Dtype \n",
      "---  ------           --------------  ----- \n",
      " 0   Region           34604 non-null  object\n",
      " 1   Area             34982 non-null  object\n",
      " 2   Date             35268 non-null  object\n",
      " 3   Offenses Count   35268 non-null  object\n",
      " 4   Monetary Amount  32646 non-null  object\n",
      " 5   Offense          35268 non-null  object\n",
      "dtypes: object(6)\n",
      "memory usage: 1.9+ MB\n"
     ]
    }
   ],
   "source": [
    "#Combining all the dfs to create the final dataset\n",
    "final_df_police_data = pd.concat([red_light_df, restraints_df,alcohol_df,speeding_df,police_speed_df], ignore_index=True)\n",
    "final_df_police_data=final_df_police_data.drop_duplicates()\n",
    "final_df_police_data.info()\n"
   ]
  },
  {
   "cell_type": "code",
   "execution_count": 597,
   "id": "ad116e71-65bd-49f8-9db9-88ff88b752d9",
   "metadata": {},
   "outputs": [],
   "source": [
    "#Converting all the columns to the right data type\n",
    "final_df_police_data['Date'] = pd.to_datetime(final_df_police_data['Date'], errors='coerce')\n",
    "final_df_police_data[['Offenses Count', 'Monetary Amount']] = final_df_police_data[['Offenses Count', 'Monetary Amount']].apply(pd.to_numeric, errors='coerce')\n",
    "final_df_police_data[['Region','Offense']] = final_df_police_data[['Region','Offense']].astype('category')\n"
   ]
  },
  {
   "cell_type": "code",
   "execution_count": 598,
   "id": "d872d094-642a-423b-8a9f-efe4f505ba4f",
   "metadata": {},
   "outputs": [
    {
     "name": "stdout",
     "output_type": "stream",
     "text": [
      "<class 'pandas.core.frame.DataFrame'>\n",
      "Index: 35268 entries, 0 to 35310\n",
      "Data columns (total 6 columns):\n",
      " #   Column           Non-Null Count  Dtype         \n",
      "---  ------           --------------  -----         \n",
      " 0   Region           34604 non-null  category      \n",
      " 1   Area             34982 non-null  object        \n",
      " 2   Date             34969 non-null  datetime64[ns]\n",
      " 3   Offenses Count   34832 non-null  float64       \n",
      " 4   Monetary Amount  32509 non-null  float64       \n",
      " 5   Offense          35268 non-null  category      \n",
      "dtypes: category(2), datetime64[ns](1), float64(2), object(1)\n",
      "memory usage: 1.4+ MB\n"
     ]
    }
   ],
   "source": [
    "final_df_police_data.info()"
   ]
  },
  {
   "cell_type": "code",
   "execution_count": 599,
   "id": "cd00b21a-4397-441a-bfd2-7e5d43d1adc3",
   "metadata": {},
   "outputs": [],
   "source": [
    "#Making sure there are no rows with missing values and removing the rows which show the sum of data\n",
    "final_df_police_data.isna().sum()\n",
    "final_df_police_data = final_df_police_data[final_df_police_data['Area'] != 'New Zealand']\n",
    "final_df_police_data=final_df_police_data.dropna()"
   ]
  },
  {
   "cell_type": "code",
   "execution_count": 600,
   "id": "d85528bd-e099-4fe1-8532-0c3de51eeb71",
   "metadata": {},
   "outputs": [],
   "source": [
    "# Using the same logic to take data from the fleeing driver sheet to create another dataset\n",
    "#Since they dont have a monetary amount, that dataframe is not required\n",
    "def fleeing_drivers(sheet_name, offenses_skip, offenses_end):\n",
    "    offenses_df = pd.read_excel('PoliceData1jan2009to30jun2019.xlsx',sheet_name=sheet_name,skiprows=offenses_skip,nrows=offenses_end-offenses_skip)\n",
    "    offenses_df.columns.values[0:2] = ['Region', 'Area']\n",
    "    offenses_df = offenses_df.set_index(['Region', 'Area']).stack().reset_index()\n",
    "    offenses_df.columns = ['Region', 'Area', 'Date', 'Count']\n",
    "    offenses_df.dropna(subset=['Count'], inplace=True)\n",
    "    \n",
    "    offenses_df['Date'] = np.where(offenses_df['Date'].str.contains('Total', case=False, na=False), pd.NA, offenses_df['Date'])\n",
    "    offenses_df.dropna(subset=['Date'], inplace=True)\n",
    "    \n",
    "    return offenses_df"
   ]
  },
  {
   "cell_type": "code",
   "execution_count": 601,
   "id": "23faab15-f907-429c-86d3-dd168a322af2",
   "metadata": {},
   "outputs": [],
   "source": [
    "#Gathering data from each table in the sheet and assigning apprpriate categories\n",
    "fleeing_district_df=fleeing_drivers('Fleeing Drivers',2,16)\n",
    "fleeing_district_df['Offense']='Fleeing'\n",
    "fleeing_df=fleeing_drivers('Fleeing Drivers',19,58)\n",
    "fleeing_df['Offense']='Fleeing'\n",
    "Pursuit_district_df=fleeing_drivers('Fleeing Drivers',61,75)\n",
    "Pursuit_district_df['Offense']='Pursuit abandonment'\n",
    "pursuit_df=fleeing_drivers('Fleeing Drivers',78,117)\n",
    "pursuit_df['Offense']='Pursuit abandonment'\n",
    "crashes_district_df=fleeing_drivers('Fleeing Drivers',120,134)\n",
    "crashes_district_df['Offense']='Crashes'\n",
    "crashes_df=fleeing_drivers('Fleeing Drivers',137,176)\n",
    "crashes_df['Offense']='Crashes'\n",
    "death_district_df=fleeing_drivers('Fleeing Drivers',179,193)\n",
    "death_district_df['Offense']='Death'\n",
    "death_df=fleeing_drivers('Fleeing Drivers',196,235)\n",
    "death_df['Offense']='Death'\n",
    "injury_district_df=fleeing_drivers('Fleeing Drivers',238,252)\n",
    "injury_district_df['Offense']='Serious Injury'\n",
    "injury_df=fleeing_drivers('Fleeing Drivers',255,294)\n",
    "injury_df['Offense']='Serious Injury'\n"
   ]
  },
  {
   "cell_type": "code",
   "execution_count": 602,
   "id": "3563bd2c-4f4e-4c42-a446-0c0e9e58299b",
   "metadata": {},
   "outputs": [
    {
     "name": "stdout",
     "output_type": "stream",
     "text": [
      "<class 'pandas.core.frame.DataFrame'>\n",
      "Index: 27125 entries, 0 to 27341\n",
      "Data columns (total 5 columns):\n",
      " #   Column   Non-Null Count  Dtype \n",
      "---  ------   --------------  ----- \n",
      " 0   Region   27125 non-null  object\n",
      " 1   Area     18648 non-null  object\n",
      " 2   Date     27125 non-null  object\n",
      " 3   Count    27125 non-null  int64 \n",
      " 4   Offense  27125 non-null  object\n",
      "dtypes: int64(1), object(4)\n",
      "memory usage: 1.2+ MB\n"
     ]
    }
   ],
   "source": [
    "#Combining the dataframes\n",
    "fleeing_df_police_data = pd.concat([fleeing_district_df, fleeing_df,Pursuit_district_df,pursuit_df,crashes_district_df,crashes_df,death_district_df,death_df,injury_district_df,injury_district_df], ignore_index=True)\n",
    "fleeing_df_police_data=fleeing_df_police_data.drop_duplicates()\n",
    "fleeing_df_police_data.info()"
   ]
  },
  {
   "cell_type": "code",
   "execution_count": 603,
   "id": "fa706f5b-978c-4cca-acc4-5baca26fb746",
   "metadata": {},
   "outputs": [
    {
     "name": "stdout",
     "output_type": "stream",
     "text": [
      "<class 'pandas.core.frame.DataFrame'>\n",
      "Index: 27125 entries, 0 to 27341\n",
      "Data columns (total 5 columns):\n",
      " #   Column   Non-Null Count  Dtype         \n",
      "---  ------   --------------  -----         \n",
      " 0   Region   27125 non-null  category      \n",
      " 1   Area     18648 non-null  object        \n",
      " 2   Date     27125 non-null  datetime64[ns]\n",
      " 3   Count    27125 non-null  int64         \n",
      " 4   Offense  27125 non-null  category      \n",
      "dtypes: category(2), datetime64[ns](1), int64(1), object(1)\n",
      "memory usage: 901.5+ KB\n"
     ]
    }
   ],
   "source": [
    "#Setting the data types accordingly\n",
    "fleeing_df_police_data['Date'] = pd.to_datetime(fleeing_df_police_data['Date'], errors='coerce')\n",
    "fleeing_df_police_data['Count'] = fleeing_df_police_data['Count'].apply(pd.to_numeric, errors='coerce')\n",
    "fleeing_df_police_data[['Region','Offense']] = fleeing_df_police_data[['Region','Offense']].astype('category')\n",
    "fleeing_df_police_data.info()"
   ]
  },
  {
   "cell_type": "code",
   "execution_count": 604,
   "id": "0c58ee70-082a-42d0-bd3b-1a7dda4df57b",
   "metadata": {},
   "outputs": [],
   "source": [
    "#Saving the files to csv format and changing the date format to show only the year and the month in the csv file\n",
    "final_df_police_data.to_csv('Updated_police_data.csv',date_format='%Y-%m', index=False)\n",
    "fleeing_df_police_data.to_csv('Fleeing_Drivers.csv',date_format='%Y-%m',index=False)"
   ]
  },
  {
   "cell_type": "code",
   "execution_count": null,
   "id": "357859a7-f415-42cb-93e9-d2c726d49147",
   "metadata": {},
   "outputs": [],
   "source": []
  }
 ],
 "metadata": {
  "kernelspec": {
   "display_name": "Python 3 (ipykernel)",
   "language": "python",
   "name": "python3"
  },
  "language_info": {
   "codemirror_mode": {
    "name": "ipython",
    "version": 3
   },
   "file_extension": ".py",
   "mimetype": "text/x-python",
   "name": "python",
   "nbconvert_exporter": "python",
   "pygments_lexer": "ipython3",
   "version": "3.12.4"
  }
 },
 "nbformat": 4,
 "nbformat_minor": 5
}
